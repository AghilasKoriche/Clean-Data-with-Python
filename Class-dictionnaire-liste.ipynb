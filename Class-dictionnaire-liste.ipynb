{
 "cells": [
  {
   "cell_type": "code",
   "execution_count": 23,
   "metadata": {},
   "outputs": [],
   "source": [
    "import pandas as pd\n",
    "import numpy as np\n",
    "import matplotlib.pyplot as plt"
   ]
  },
  {
   "cell_type": "markdown",
   "metadata": {},
   "source": [
    "# Class:"
   ]
  },
  {
   "cell_type": "code",
   "execution_count": 24,
   "metadata": {},
   "outputs": [],
   "source": [
    " class Vehicule: # définition de la classe Vehicule:\n",
    "    def __init__(self, a, b = []):\n",
    "        \n",
    "        self.seats = a  # nombre de places dans le vehicule : \n",
    "        self.passengers = b  #liste contenant le nom des passagers:\n",
    "        \n",
    "    def print_passengers(self):\n",
    "        for i in range(len(self.passengers)):\n",
    "            print(self.passengers[i])\n",
    "\n",
    "voiture1= Vehicule(4, ['Pierre','Adrian']) # déclaration d'un objet de la classe Vehicule:"
   ]
  },
  {
   "cell_type": "markdown",
   "metadata": {},
   "source": [
    "# Liste:"
   ]
  },
  {
   "cell_type": "code",
   "execution_count": 25,
   "metadata": {},
   "outputs": [
    {
     "name": "stdout",
     "output_type": "stream",
     "text": [
      "[-16, 6, -4, -18, 18, 20, 21, -6, 19, 25]\n",
      "[27, -1, 10, -2, -15, -10, 19, 26, 3, 27]\n"
     ]
    }
   ],
   "source": [
    "une_liste_longue = [-16, 6, -4, -18, 18, 20, 21, -6, 19, 25, 11,\n",
    "                    2, 9, 7, -16, 16, 4, -15, 11, 7, 17, 18, 4,\n",
    "                    25, 17, 28, -6, 17, 1, 14, -20, -15, 20, -15,\n",
    "                    -8, 8, -19, -11, -20, -16, 3, 3, -10, -5, 10,\n",
    "                    24, -1, 1, -10, 6, 10, -6, -14, 25, 8, -11,\n",
    "                    -17, -9, 0, 21, 3, 14, 7, 10, 25, 24, -18, -11,\n",
    "                    2, 29, 17, -6, 6, -11, 2, -18, 20, -15, -11,\n",
    "                    15, -10, 8, -15, 25, -15, 10, 28, -12, 11, 14,\n",
    "                    27, -1, 10, -2, -15, -10, 19, 26, 3, 27]\n",
    "print(une_liste_longue[0: 10])\n",
    "print(une_liste_longue[-10:])"
   ]
  },
  {
   "cell_type": "markdown",
   "metadata": {},
   "source": [
    "# Dictionnaire:"
   ]
  },
  {
   "cell_type": "code",
   "execution_count": 26,
   "metadata": {},
   "outputs": [
    {
     "name": "stdout",
     "output_type": "stream",
     "text": [
      "{'prenom': 'guillaume', 'nom': 'lefebvre', 'emission': 1978}\n"
     ]
    }
   ],
   "source": [
    "carte_id = {\"prenom\":\"paul\",\n",
    "\"nom\":\"lefebvre\",\n",
    "\"emission\":1978}\n",
    "carte_id[\"prenom\"] = \"guillaume\"\n",
    "print(carte_id)"
   ]
  },
  {
   "cell_type": "code",
   "execution_count": 27,
   "metadata": {},
   "outputs": [
    {
     "name": "stdout",
     "output_type": "stream",
     "text": [
      "['Bonjour', 'comment', 'ça', 'va', '?', 'Bien', 'et', 'toi', '?']\n",
      "['Bonjour', 'comment', 'ça', 'va', '?', 'Bien', 'et', 'toi', '?']\n"
     ]
    }
   ],
   "source": [
    "### Fusion de 2 listes avec la méthode extend\n",
    "liste_1 = [\"Bonjour\", \"comment\", \"ça\", \"va\", \"?\"]\n",
    "liste_2 = [\"Bien\", \"et\", \"toi\", \"?\"]\n",
    "# Ajout des éléments de liste_2 à la fin de liste_1\n",
    "liste_1.extend(liste_2)\n",
    "# Affichage de liste_1\n",
    "print(liste_1)\n",
    "### Fusion de 2 listes avec l'opérateur +\n",
    "liste_1 = [\"Bonjour\", \"comment\", \"ça\", \"va\", \"?\"]\n",
    "liste_2 = [\"Bien\", \"et\", \"toi\", \"?\"]\n",
    "# Ajout des éléments de liste_2 à la fin de liste_1\n",
    "liste_1 = liste_1 + liste_2\n",
    "print(liste_1)"
   ]
  },
  {
   "cell_type": "code",
   "execution_count": 28,
   "metadata": {},
   "outputs": [
    {
     "name": "stdout",
     "output_type": "stream",
     "text": [
      "il faudrait au marcheur 6.0 jours et 12.25 heurs.\n"
     ]
    }
   ],
   "source": [
    "distance = 750 # en km\n",
    "vitesse = 4.8 #km/h\n",
    "temps = 750/4.8 \n",
    "jours = temps//24\n",
    "heurs_restantes = temps % 24\n",
    "print (\"il faudrait au marcheur\",jours,\"jours et\", heurs_restantes,\"heurs.\") "
   ]
  },
  {
   "cell_type": "code",
   "execution_count": 29,
   "metadata": {},
   "outputs": [
    {
     "name": "stdout",
     "output_type": "stream",
     "text": [
      "True\n"
     ]
    }
   ],
   "source": [
    "y = (3**7 + 2**14)/7\n",
    "print(y%7==0)"
   ]
  },
  {
   "cell_type": "code",
   "execution_count": 30,
   "metadata": {},
   "outputs": [
    {
     "name": "stdout",
     "output_type": "stream",
     "text": [
      "Du bon travail. Je vous encourage à continuer ainsi.\n"
     ]
    }
   ],
   "source": [
    "note = 10\n",
    "if note < 5:\n",
    "    print(\"Travail très insuffisant.\")\n",
    "elif note < 10:\n",
    "    print(\"Peut mieux faire.\")\n",
    "elif note < 15:\n",
    "    print(\"Du bon travail. Je vous encourage à continuer ainsi.\")\n",
    "else:\n",
    "    print(\"Excellent travail. Toutes mes félicitations.\")"
   ]
  },
  {
   "cell_type": "code",
   "execution_count": 31,
   "metadata": {},
   "outputs": [
    {
     "name": "stdout",
     "output_type": "stream",
     "text": [
      "Ce nombre est strictement négatif.\n"
     ]
    }
   ],
   "source": [
    "nombre = -2\n",
    "if nombre == 0:\n",
    "      print(\"Ce nombre vaut 0.\")\n",
    "elif nombre > 0:\n",
    "     print(\"Ce nombre est strictement positif.\")\n",
    "else :\n",
    "     print(\"Ce nombre est strictement négatif.\")"
   ]
  },
  {
   "cell_type": "code",
   "execution_count": 32,
   "metadata": {},
   "outputs": [
    {
     "name": "stdout",
     "output_type": "stream",
     "text": [
      "Moyenne initiale : 6.7\n",
      "Moyenne finale : 14.0\n"
     ]
    }
   ],
   "source": [
    "bad_marks = [0, 2, 3, 3, 3, 3, 4, 5, 5, 5, 6, 6, 6, 6, 6, 7, 7, 8, 8, 8, 8, 8, 8, 9, 10, 10, 10, 11, 12, 14]\n",
    "# Calcul de la moyenne de la classe : \n",
    "y = 0\n",
    "# On somme toutes les notes des élèves:\n",
    "for x in bad_marks :\n",
    "    y += x\n",
    "# On divise la somme des notes par le nombre d'élèves:\n",
    "moyenne = y / 30\n",
    "print(\"Moyenne initiale :\", moyenne)\n",
    "###################################################################\n",
    "# La moyenne est de 6.7, on ajoute donc 4 points à chaque élève:\n",
    "good_marks = []\n",
    "# Pour chaque note dans bad_marks:\n",
    "for z in bad_marks :\n",
    "    # On stock dans good_marks la note augmentée de 4 points:\n",
    "    good_marks.append(z + 4)\n",
    "\n",
    "# Calcul de la nouvelle moyenne de la classe:\n",
    "c= 0\n",
    "for mark in good_marks :\n",
    "    c+=z\n",
    "moyenne = c / 30\n",
    "    \n",
    "print(\"Moyenne finale :\", moyenne)"
   ]
  },
  {
   "cell_type": "markdown",
   "metadata": {},
   "source": [
    "### la suite de Fibonacci"
   ]
  },
  {
   "cell_type": "code",
   "execution_count": 33,
   "metadata": {},
   "outputs": [
    {
     "name": "stdout",
     "output_type": "stream",
     "text": [
      "[0, 1, 1]\n",
      "[0, 1, 1, 2]\n",
      "[0, 1, 1, 2, 3]\n",
      "[0, 1, 1, 2, 3, 5]\n",
      "[0, 1, 1, 2, 3, 5, 8]\n",
      "[0, 1, 1, 2, 3, 5, 8, 13]\n",
      "[0, 1, 1, 2, 3, 5, 8, 13, 21]\n",
      "[0, 1, 1, 2, 3, 5, 8, 13, 21, 34]\n"
     ]
    }
   ],
   "source": [
    "# Les deux premiers termes de la suite de Fibonacci\n",
    "u = [0, 1]\n",
    "\n",
    "# Pour i allant de 2 à 100\n",
    "for i in range(2, 10): \n",
    "    # On calcule le terme u_i à l'aide de u[i-1] et u[i-2]\n",
    "    u_i = u[i-1] + u[i-2]\n",
    "    \n",
    "    # On stock u_i à la fin de la liste u\n",
    "    u.append(u_i)   \n",
    "    print (u)"
   ]
  },
  {
   "cell_type": "code",
   "execution_count": 34,
   "metadata": {},
   "outputs": [
    {
     "name": "stdout",
     "output_type": "stream",
     "text": [
      "Le caractère 'e' apparait 2 fois dans le texte.\n"
     ]
    }
   ],
   "source": [
    "text = ['Femmes']\n",
    "n = 0\n",
    "# Pour chaque mot dans le texte\n",
    "for word in text :\n",
    "    # Pour chaque lettre du mot\n",
    "    for letter in word :\n",
    "        # Si le caractère est 'e'\n",
    "        if letter == 'e':\n",
    "            # On incrémente n de 1\n",
    "            n += 1\n",
    "print(\"Le caractère 'e' apparait\", n, \"fois dans le texte.\")"
   ]
  }
 ],
 "metadata": {
  "kernelspec": {
   "display_name": "Python 3",
   "language": "python",
   "name": "python3"
  },
  "language_info": {
   "codemirror_mode": {
    "name": "ipython",
    "version": 3
   },
   "file_extension": ".py",
   "mimetype": "text/x-python",
   "name": "python",
   "nbconvert_exporter": "python",
   "pygments_lexer": "ipython3",
   "version": "3.8.5"
  }
 },
 "nbformat": 4,
 "nbformat_minor": 4
}
