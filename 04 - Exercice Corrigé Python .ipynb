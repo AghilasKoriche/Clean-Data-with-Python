{
 "cells": [
  {
   "cell_type": "code",
   "execution_count": 2,
   "metadata": {},
   "outputs": [],
   "source": [
    "import pandas as pd\n",
    "import matplotlib.pyplot as plt \n",
    "import numpy as np"
   ]
  },
  {
   "cell_type": "markdown",
   "metadata": {},
   "source": [
    "# Ex 01 :\n",
    "Calucle de temps :\n",
    "distance = 750 km ; \n",
    "vitesse = 4.8 km/h"
   ]
  },
  {
   "cell_type": "code",
   "execution_count": 5,
   "metadata": {},
   "outputs": [
    {
     "name": "stdout",
     "output_type": "stream",
     "text": [
      "156.25\n"
     ]
    }
   ],
   "source": [
    "distance = 750 \n",
    "vitesse = 4.8 \n",
    "temps = 750/4.8\n",
    "print (temps)"
   ]
  },
  {
   "cell_type": "markdown",
   "metadata": {},
   "source": [
    "# EX02 :\n",
    "calcule de temps, afficher le résultats en  jour et en heure "
   ]
  },
  {
   "cell_type": "code",
   "execution_count": 7,
   "metadata": {},
   "outputs": [
    {
     "name": "stdout",
     "output_type": "stream",
     "text": [
      "Il faudrait au marcheur 6.0 jours et 12.25 heures.\n"
     ]
    }
   ],
   "source": [
    "# Distance en km entre Paris et Marseille\n",
    "distance = 750 \n",
    "\n",
    "# Vitesse moyenne d'un marcheur en km/h\n",
    "vitesse = 4.8\n",
    "\n",
    "# Temps en heures qu'il faudrait pour aller de Paris à Marseille sans s'arrêter\n",
    "temps = distance / vitesse\n",
    "\n",
    "# Nombre de jours de marche\n",
    "jours = temps // 24\n",
    "\n",
    "# Nombre d'heures restantes\n",
    "\n",
    "heures_restantes= temps % 24\n",
    "\n",
    "print(\"Il faudrait au marcheur\", jours, \"jours et\", heures_restantes, \"heures.\")"
   ]
  },
  {
   "cell_type": "markdown",
   "metadata": {},
   "source": [
    "# EX03 : Théorème des nombres premiers \n",
    "def : Un nombre premier est un entier naturel qui admet exactement deux diviseurs distincts entiers et positifs. Ces deux diviseurs sont 1 et le nombre considéré, puisque tout nombre a pour diviseurs 1 et lui-même, les nombres premiers étant ceux qui ne possèdent pas d'autre diviseur. "
   ]
  },
  {
   "cell_type": "code",
   "execution_count": 18,
   "metadata": {},
   "outputs": [
    {
     "name": "stdout",
     "output_type": "stream",
     "text": [
      "6\n"
     ]
    }
   ],
   "source": [
    "nombres_premiers = [5, 7, 11, 13, 17, 19, 23, 29, 31, 37]\n",
    "\n",
    "x = nombres_premiers[0]\n",
    "\n",
    "x = x*x\n",
    "x = x + 17\n",
    "x = x%12\n",
    "\n",
    "print(x)"
   ]
  },
  {
   "cell_type": "markdown",
   "metadata": {},
   "source": [
    "# EX04 :  \n",
    "Le gouvernement a décidé de verser une prime covid-19 pour les salariés qui ont travailés durant cette périede, pour cela il a mis quelques conditions:\n",
    "\n",
    "   a. avoir un salaire inférieru à 1200 eureos et une ancienté inferieur à 5 ans\n",
    "   \n",
    "   b. avoir un salaire entre 1500 et 2300 eureos et une ancienté supérieur à 10 ans\n",
    "   \n",
    "   c. avoir un salaire entre 1500 et 2300 euros inclus, et une ancienté entre ( 5 ans et 10 ans) inclus  \n",
    "   \n",
    "   Bernadette est éligible à la prime covid-19 ? "
   ]
  },
  {
   "cell_type": "markdown",
   "metadata": {},
   "source": [
    "# Solution 01"
   ]
  },
  {
   "cell_type": "code",
   "execution_count": 61,
   "metadata": {},
   "outputs": [
    {
     "name": "stdout",
     "output_type": "stream",
     "text": [
      "Bernadette peut-elle toucher la prime? True\n"
     ]
    }
   ],
   "source": [
    "anciennete = 12\n",
    "salaire = 2400\n",
    "\n",
    "x = anciennete\n",
    "y = salaire\n",
    " \n",
    "critere1 = x < 5 and y < 1500\n",
    "\n",
    "\n",
    "critere2 = (5 <= x <= 10) and (1500 < y <= 2300)\n",
    "\n",
    "\n",
    "critere3 = (x > 10) and (1500 < y or y > 2300)\n",
    "\n",
    "\n",
    "print(\"Bernadette peut-elle toucher la prime?\", critere1 or critere2 or critere3) "
   ]
  },
  {
   "cell_type": "markdown",
   "metadata": {},
   "source": [
    "# Solution 02"
   ]
  },
  {
   "cell_type": "code",
   "execution_count": 64,
   "metadata": {},
   "outputs": [
    {
     "name": "stdout",
     "output_type": "stream",
     "text": [
      "prime attribuée à bernadette\n"
     ]
    }
   ],
   "source": [
    "x =12\n",
    "y =2400\n",
    "\n",
    "if x < 5 and y < 1500:\n",
    "    \n",
    "  print(\"prime attribuée à bernadette.\")\n",
    "        \n",
    "elif 5 <= x <=10 and 1500 < y <=2300:\n",
    "  print(\"prime attribuée à bernadette.\")\n",
    "\n",
    "elif x > 10 and 1500< y <2300:\n",
    " print(\"prime attribuée à bernadette.\")\n",
    "else:\n",
    "  print(\"prime attribuée à bernadette\")"
   ]
  },
  {
   "cell_type": "markdown",
   "metadata": {},
   "source": [
    "# Ex05 :\n",
    "   boucle  if - elif - else"
   ]
  },
  {
   "cell_type": "code",
   "execution_count": 70,
   "metadata": {},
   "outputs": [
    {
     "name": "stdout",
     "output_type": "stream",
     "text": [
      "ce nombre est strictement négatif.\n"
     ]
    }
   ],
   "source": [
    "nombre = -2\n",
    "if nombre >= 0:\n",
    "        print (\"nombre vaut 0.\")\n",
    "elif nombre > 0:\n",
    "        print(\"ce nombre est strictement positif.\")\n",
    "else:\n",
    "        print(\"ce nombre est strictement négatif.\")"
   ]
  },
  {
   "cell_type": "markdown",
   "metadata": {},
   "source": [
    "## EX 06 :\n",
    "    Création d'un dataFrame avec trois produits, la quantité, la date d'expération."
   ]
  },
  {
   "cell_type": "markdown",
   "metadata": {},
   "source": [
    "# Solution 01"
   ]
  },
  {
   "cell_type": "code",
   "execution_count": 66,
   "metadata": {},
   "outputs": [
    {
     "data": {
      "text/html": [
       "<div>\n",
       "<style scoped>\n",
       "    .dataframe tbody tr th:only-of-type {\n",
       "        vertical-align: middle;\n",
       "    }\n",
       "\n",
       "    .dataframe tbody tr th {\n",
       "        vertical-align: top;\n",
       "    }\n",
       "\n",
       "    .dataframe thead th {\n",
       "        text-align: right;\n",
       "    }\n",
       "</style>\n",
       "<table border=\"1\" class=\"dataframe\">\n",
       "  <thead>\n",
       "    <tr style=\"text-align: right;\">\n",
       "      <th></th>\n",
       "      <th>farine</th>\n",
       "      <th>miel</th>\n",
       "      <th>Vin</th>\n",
       "    </tr>\n",
       "  </thead>\n",
       "  <tbody>\n",
       "    <tr>\n",
       "      <th>prix_unité</th>\n",
       "      <td>3</td>\n",
       "      <td>2</td>\n",
       "      <td>10</td>\n",
       "    </tr>\n",
       "    <tr>\n",
       "      <th>quantité</th>\n",
       "      <td>55</td>\n",
       "      <td>100</td>\n",
       "      <td>1800</td>\n",
       "    </tr>\n",
       "    <tr>\n",
       "      <th>date_d'expération</th>\n",
       "      <td>25/09/2024</td>\n",
       "      <td>08/08/2025</td>\n",
       "      <td>10/15/2023</td>\n",
       "    </tr>\n",
       "  </tbody>\n",
       "</table>\n",
       "</div>"
      ],
      "text/plain": [
       "                       farine        miel         Vin\n",
       "prix_unité                  3           2          10\n",
       "quantité                   55         100        1800\n",
       "date_d'expération  25/09/2024  08/08/2025  10/15/2023"
      ]
     },
     "execution_count": 66,
     "metadata": {},
     "output_type": "execute_result"
    }
   ],
   "source": [
    "dictionnaire = {  \"farine\":{\"prix_unité\":3, \"quantité\":55, \"date_d'expération\":\"25/09/2024\"}, \n",
    "                  \"miel\":{ \"prix_unité\":2, \"quantité\":100, \"date_d'expération\":\"08/08/2025\"},  \n",
    "                  \"Vin\":{ \"prix_unité\":10, \"quantité\":1800,\"date_d'expération\":\"10/15/2023\"} \n",
    "               }\n",
    "# Instanciation d'un DataFrame \n",
    "\n",
    "df1 = pd.DataFrame(data = dictionnaire)\n",
    "df1"
   ]
  },
  {
   "cell_type": "markdown",
   "metadata": {},
   "source": [
    "# Solution 02"
   ]
  },
  {
   "cell_type": "code",
   "execution_count": 67,
   "metadata": {},
   "outputs": [
    {
     "data": {
      "text/html": [
       "<div>\n",
       "<style scoped>\n",
       "    .dataframe tbody tr th:only-of-type {\n",
       "        vertical-align: middle;\n",
       "    }\n",
       "\n",
       "    .dataframe tbody tr th {\n",
       "        vertical-align: top;\n",
       "    }\n",
       "\n",
       "    .dataframe thead th {\n",
       "        text-align: right;\n",
       "    }\n",
       "</style>\n",
       "<table border=\"1\" class=\"dataframe\">\n",
       "  <thead>\n",
       "    <tr style=\"text-align: right;\">\n",
       "      <th></th>\n",
       "      <th>produits</th>\n",
       "      <th>Farine</th>\n",
       "      <th>miel</th>\n",
       "      <th>Vin</th>\n",
       "    </tr>\n",
       "  </thead>\n",
       "  <tbody>\n",
       "    <tr>\n",
       "      <th>0</th>\n",
       "      <td>Farine</td>\n",
       "      <td>3.000000</td>\n",
       "      <td>2.000000</td>\n",
       "      <td>10.000000</td>\n",
       "    </tr>\n",
       "    <tr>\n",
       "      <th>1</th>\n",
       "      <td>miel</td>\n",
       "      <td>55.000000</td>\n",
       "      <td>100.000000</td>\n",
       "      <td>1800.000000</td>\n",
       "    </tr>\n",
       "    <tr>\n",
       "      <th>2</th>\n",
       "      <td>Vin</td>\n",
       "      <td>0.001372</td>\n",
       "      <td>0.000617</td>\n",
       "      <td>0.000741</td>\n",
       "    </tr>\n",
       "  </tbody>\n",
       "</table>\n",
       "</div>"
      ],
      "text/plain": [
       "  produits     Farine        miel          Vin\n",
       "0   Farine   3.000000    2.000000    10.000000\n",
       "1     miel  55.000000  100.000000  1800.000000\n",
       "2      Vin   0.001372    0.000617     0.000741"
      ]
     },
     "execution_count": 67,
     "metadata": {},
     "output_type": "execute_result"
    }
   ],
   "source": [
    "dictionnaire = { 'produits':['Farine','miel','Vin'],\n",
    "                'Farine': [3, 55, 25/9/2024], \n",
    "                'miel': [2, 100, 10/8/2025],\n",
    "                'Vin': [10, 1800, 15/10/2023]\n",
    "               }\n",
    "              \n",
    "# Instanciation d'un DataFrame \n",
    "\n",
    "df2 = pd.DataFrame(data = dictionnaire)\n",
    "df2"
   ]
  },
  {
   "cell_type": "markdown",
   "metadata": {},
   "source": [
    "# Solution 03"
   ]
  },
  {
   "cell_type": "code",
   "execution_count": 76,
   "metadata": {},
   "outputs": [
    {
     "data": {
      "text/html": [
       "<div>\n",
       "<style scoped>\n",
       "    .dataframe tbody tr th:only-of-type {\n",
       "        vertical-align: middle;\n",
       "    }\n",
       "\n",
       "    .dataframe tbody tr th {\n",
       "        vertical-align: top;\n",
       "    }\n",
       "\n",
       "    .dataframe thead th {\n",
       "        text-align: right;\n",
       "    }\n",
       "</style>\n",
       "<table border=\"1\" class=\"dataframe\">\n",
       "  <thead>\n",
       "    <tr style=\"text-align: right;\">\n",
       "      <th></th>\n",
       "      <th>Produit</th>\n",
       "      <th>Date d'expiration</th>\n",
       "      <th>Quantité</th>\n",
       "      <th>Prix à l'unité</th>\n",
       "    </tr>\n",
       "  </thead>\n",
       "  <tbody>\n",
       "    <tr>\n",
       "      <th>0</th>\n",
       "      <td>miel</td>\n",
       "      <td>10/08/2025</td>\n",
       "      <td>100</td>\n",
       "      <td>2</td>\n",
       "    </tr>\n",
       "    <tr>\n",
       "      <th>1</th>\n",
       "      <td>farine</td>\n",
       "      <td>25/09/2024</td>\n",
       "      <td>55</td>\n",
       "      <td>3</td>\n",
       "    </tr>\n",
       "    <tr>\n",
       "      <th>2</th>\n",
       "      <td>vin</td>\n",
       "      <td>15/10/2023</td>\n",
       "      <td>1800</td>\n",
       "      <td>10</td>\n",
       "    </tr>\n",
       "  </tbody>\n",
       "</table>\n",
       "</div>"
      ],
      "text/plain": [
       "  Produit Date d'expiration  Quantité  Prix à l'unité\n",
       "0    miel        10/08/2025       100               2\n",
       "1  farine        25/09/2024        55               3\n",
       "2     vin        15/10/2023      1800              10"
      ]
     },
     "execution_count": 76,
     "metadata": {},
     "output_type": "execute_result"
    }
   ],
   "source": [
    "dictionnaire = {\"Produit\"          : ['miel', 'farine', 'vin'],\n",
    "                \"Date d'expiration\": ['10/08/2025', '25/09/2024', '15/10/2023'],\n",
    "                \"Quantité\"         : [100, 55, 1800], \n",
    "                \"Prix à l'unité\"   : [2, 3, 10]}\n",
    "\n",
    "df3 = pd.DataFrame(dictionnaire)\n",
    "\n",
    "df3"
   ]
  },
  {
   "cell_type": "markdown",
   "metadata": {},
   "source": [
    "# Ex07 : Manipulation des Nombres "
   ]
  },
  {
   "cell_type": "code",
   "execution_count": 72,
   "metadata": {},
   "outputs": [
    {
     "name": "stdout",
     "output_type": "stream",
     "text": [
      "True\n",
      "True\n",
      "True\n"
     ]
    }
   ],
   "source": [
    "# Deuxième question\n",
    "n = 4\n",
    "x = 3**(2*n + 1) + 2**(4*n + 2)\n",
    "print(x%7 == 0)\n",
    "\n",
    "n = 5\n",
    "x = 3**(2*n + 1) + 2**(4*n + 2)\n",
    "print(x%7 == 0)\n",
    "\n",
    "n = 10\n",
    "x = 3**(2*n + 1) + 2**(4*n + 2)\n",
    "print(x%7 == 0)"
   ]
  }
 ],
 "metadata": {
  "kernelspec": {
   "display_name": "Python 3",
   "language": "python",
   "name": "python3"
  },
  "language_info": {
   "codemirror_mode": {
    "name": "ipython",
    "version": 3
   },
   "file_extension": ".py",
   "mimetype": "text/x-python",
   "name": "python",
   "nbconvert_exporter": "python",
   "pygments_lexer": "ipython3",
   "version": "3.8.5"
  }
 },
 "nbformat": 4,
 "nbformat_minor": 4
}
