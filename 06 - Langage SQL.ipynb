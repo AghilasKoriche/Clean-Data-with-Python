{
 "cells": [
  {
   "cell_type": "code",
   "execution_count": 58,
   "metadata": {},
   "outputs": [],
   "source": [
    "import sqlite3, sqlalchemy\n",
    "from sqlalchemy import Table, Column, Integer, String, ForeignKey, MetaData, create_engine, text, inspect\n",
    "from IPython.display import Markdown, display"
   ]
  },
  {
   "cell_type": "markdown",
   "metadata": {},
   "source": [
    "# Création de la base de données :"
   ]
  },
  {
   "cell_type": "code",
   "execution_count": 59,
   "metadata": {},
   "outputs": [],
   "source": [
    "engine = create_engine('sqlite:///college.db', echo=True)"
   ]
  },
  {
   "cell_type": "code",
   "execution_count": 60,
   "metadata": {},
   "outputs": [],
   "source": [
    "meta = MetaData()"
   ]
  },
  {
   "cell_type": "markdown",
   "metadata": {},
   "source": [
    "# Création de la table Students et Parcours:"
   ]
  },
  {
   "cell_type": "code",
   "execution_count": 61,
   "metadata": {},
   "outputs": [
    {
     "name": "stdout",
     "output_type": "stream",
     "text": [
      "2022-03-03 14:37:55,659 INFO sqlalchemy.engine.base.Engine SELECT CAST('test plain returns' AS VARCHAR(60)) AS anon_1\n",
      "2022-03-03 14:37:55,662 INFO sqlalchemy.engine.base.Engine ()\n",
      "2022-03-03 14:37:55,667 INFO sqlalchemy.engine.base.Engine SELECT CAST('test unicode returns' AS VARCHAR(60)) AS anon_1\n",
      "2022-03-03 14:37:55,669 INFO sqlalchemy.engine.base.Engine ()\n",
      "2022-03-03 14:37:55,673 INFO sqlalchemy.engine.base.Engine PRAGMA main.table_info(\"students\")\n",
      "2022-03-03 14:37:55,675 INFO sqlalchemy.engine.base.Engine ()\n",
      "2022-03-03 14:37:55,681 INFO sqlalchemy.engine.base.Engine PRAGMA temp.table_info(\"students\")\n",
      "2022-03-03 14:37:55,683 INFO sqlalchemy.engine.base.Engine ()\n",
      "2022-03-03 14:37:55,685 INFO sqlalchemy.engine.base.Engine PRAGMA main.table_info(\"parcours\")\n",
      "2022-03-03 14:37:55,688 INFO sqlalchemy.engine.base.Engine ()\n",
      "2022-03-03 14:37:55,692 INFO sqlalchemy.engine.base.Engine PRAGMA temp.table_info(\"parcours\")\n",
      "2022-03-03 14:37:55,695 INFO sqlalchemy.engine.base.Engine ()\n",
      "2022-03-03 14:37:55,701 INFO sqlalchemy.engine.base.Engine \n",
      "CREATE TABLE students (\n",
      "\tid INTEGER NOT NULL, \n",
      "\tname VARCHAR, \n",
      "\tlastname VARCHAR, \n",
      "\tPRIMARY KEY (id)\n",
      ")\n",
      "\n",
      "\n",
      "2022-03-03 14:37:55,705 INFO sqlalchemy.engine.base.Engine ()\n",
      "2022-03-03 14:37:55,834 INFO sqlalchemy.engine.base.Engine COMMIT\n",
      "2022-03-03 14:37:55,838 INFO sqlalchemy.engine.base.Engine \n",
      "CREATE TABLE parcours (\n",
      "\tid_parcours INTEGER NOT NULL, \n",
      "\tname VARCHAR, \n",
      "\tstudent_id INTEGER, \n",
      "\tPRIMARY KEY (id_parcours), \n",
      "\tFOREIGN KEY(student_id) REFERENCES students (id)\n",
      ")\n",
      "\n",
      "\n",
      "2022-03-03 14:37:55,840 INFO sqlalchemy.engine.base.Engine ()\n",
      "2022-03-03 14:37:55,923 INFO sqlalchemy.engine.base.Engine COMMIT\n"
     ]
    }
   ],
   "source": [
    "students = Table(\n",
    "   'students', meta, \n",
    "   Column('id', Integer, primary_key=True), \n",
    "   Column('name', String), \n",
    "   Column('lastname', String),\n",
    ")\n",
    " # meta.create_all(engine)\n",
    "    \n",
    "parcours = Table(\n",
    "   'parcours', meta, \n",
    "   Column('id_parcours', Integer, primary_key=True), \n",
    "   Column('name', String), \n",
    "   Column('student_id', Integer, ForeignKey(\"students.id\")),\n",
    ")\n",
    "meta.create_all(engine)"
   ]
  },
  {
   "cell_type": "markdown",
   "metadata": {},
   "source": [
    "# Ajouter des données à la tables Students :"
   ]
  },
  {
   "cell_type": "code",
   "execution_count": 62,
   "metadata": {},
   "outputs": [
    {
     "data": {
      "text/plain": [
       "[(1, 'Jean', 'Dubois'), (2, 'Florent', 'Desbiolles')]"
      ]
     },
     "execution_count": 62,
     "metadata": {},
     "output_type": "execute_result"
    }
   ],
   "source": [
    "values = [(1, \"Jean\", \"Dubois\"), (2, \"Florent\", \"Desbiolles\")]\n",
    "values"
   ]
  },
  {
   "cell_type": "code",
   "execution_count": 63,
   "metadata": {},
   "outputs": [
    {
     "name": "stdout",
     "output_type": "stream",
     "text": [
      "2022-03-03 14:38:00,794 INFO sqlalchemy.engine.base.Engine BEGIN (implicit)\n",
      "2022-03-03 14:38:00,796 INFO sqlalchemy.engine.base.Engine INSERT OR REPLACE INTO students VALUES (?,?,?)\n",
      "2022-03-03 14:38:00,799 INFO sqlalchemy.engine.base.Engine [(1, 'Jean', 'Dubois'), (2, 'Florent', 'Desbiolles')]\n",
      "2022-03-03 14:38:00,804 INFO sqlalchemy.engine.base.Engine COMMIT\n"
     ]
    }
   ],
   "source": [
    "# Créer la connection\n",
    "with engine.connect() as connection:\n",
    "    # début de la transaction\n",
    "    with connection.begin() as transaction:\n",
    "        # on tente d'éxécuter une transaction\n",
    "        try:\n",
    "            # On indique le format d'un tuple de cette table\n",
    "            markers = ','.join('?' * len(values[0])) \n",
    "            \n",
    "            # On utilise le langage SQL en format texte où markers est le format d'un tuple\n",
    "            ins = 'INSERT OR REPLACE INTO {tablename} VALUES ({markers})'\n",
    "            \n",
    "            # On précise ce format particulier grâce à la fonction membre format\n",
    "            ins = ins.format(tablename=students.name, markers=markers)\n",
    "           \n",
    "            # Enfin on peut utiliser les tuples créés en éxécutant la commande SQL\n",
    "            connection.execute(ins, values)\n",
    "        # si la transaction échoue\n",
    "        except:\n",
    "            transaction.rollback()\n",
    "            raise\n",
    "        # si la transaction réussit\n",
    "        else:\n",
    "            transaction.commit()"
   ]
  },
  {
   "cell_type": "code",
   "execution_count": 64,
   "metadata": {},
   "outputs": [
    {
     "name": "stdout",
     "output_type": "stream",
     "text": [
      "2022-03-03 14:38:02,713 INFO sqlalchemy.engine.base.Engine SELECT * FROM students;\n",
      "2022-03-03 14:38:02,713 INFO sqlalchemy.engine.base.Engine ()\n",
      "[(1, 'Jean', 'Dubois'), (2, 'Florent', 'Desbiolles')]\n"
     ]
    }
   ],
   "source": [
    "with engine.connect() as connection:\n",
    "    results = connection.execute(\"SELECT * FROM students;\")\n",
    "    print(results.fetchall())"
   ]
  },
  {
   "cell_type": "markdown",
   "metadata": {},
   "source": [
    "# Ajouter des données à la tables Parcours :"
   ]
  },
  {
   "cell_type": "code",
   "execution_count": 65,
   "metadata": {},
   "outputs": [],
   "source": [
    "values_parcours = [(1, \"Data engineering\", 1),(2, \"Data Science\", 2) ]"
   ]
  },
  {
   "cell_type": "code",
   "execution_count": 66,
   "metadata": {},
   "outputs": [
    {
     "name": "stdout",
     "output_type": "stream",
     "text": [
      "2022-03-03 14:38:05,550 INFO sqlalchemy.engine.base.Engine BEGIN (implicit)\n",
      "2022-03-03 14:38:05,555 INFO sqlalchemy.engine.base.Engine INSERT OR REPLACE INTO parcours VALUES (?,?,?)\n",
      "2022-03-03 14:38:05,557 INFO sqlalchemy.engine.base.Engine [(1, 'Data engineering', 1), (2, 'Data Science', 2)]\n",
      "2022-03-03 14:38:05,563 INFO sqlalchemy.engine.base.Engine COMMIT\n"
     ]
    }
   ],
   "source": [
    "with engine.connect() as connection:\n",
    "    with connection.begin() as transaction:\n",
    "        try:\n",
    "            markers = ','.join('?' * len(values_parcours[0]))\n",
    "            ins = 'INSERT OR REPLACE INTO {tablename} VALUES ({markers})'\n",
    "            \n",
    "            ins = ins.format(tablename=parcours.name, markers=markers)\n",
    "            connection.execute(ins, values_parcours)\n",
    "        except:\n",
    "            transaction.rollback()\n",
    "            raise\n",
    "        else:\n",
    "            transaction.commit()"
   ]
  },
  {
   "cell_type": "code",
   "execution_count": 67,
   "metadata": {},
   "outputs": [
    {
     "name": "stdout",
     "output_type": "stream",
     "text": [
      "2022-03-03 14:38:07,838 INFO sqlalchemy.engine.base.Engine SELECT * FROM parcours;\n",
      "2022-03-03 14:38:07,840 INFO sqlalchemy.engine.base.Engine ()\n",
      "[(1, 'Data engineering', 1), (2, 'Data Science', 2)]\n"
     ]
    }
   ],
   "source": [
    "with engine.connect() as connection:\n",
    "    results = connection.execute(\"SELECT * FROM parcours;\")\n",
    "    print(results.fetchall())"
   ]
  },
  {
   "cell_type": "markdown",
   "metadata": {},
   "source": [
    "# Supprission de la table students :"
   ]
  },
  {
   "cell_type": "code",
   "execution_count": 68,
   "metadata": {},
   "outputs": [
    {
     "name": "stdout",
     "output_type": "stream",
     "text": [
      "2022-03-03 14:38:09,474 INFO sqlalchemy.engine.base.Engine DROP TABLE IF EXISTS students;\n",
      "2022-03-03 14:38:09,478 INFO sqlalchemy.engine.base.Engine ()\n",
      "2022-03-03 14:38:09,692 INFO sqlalchemy.engine.base.Engine COMMIT\n"
     ]
    }
   ],
   "source": [
    "sql = text('DROP TABLE IF EXISTS students;')\n",
    "result = engine.execute(sql)"
   ]
  },
  {
   "cell_type": "markdown",
   "metadata": {},
   "source": [
    "# Supprission de la table parcours :"
   ]
  },
  {
   "cell_type": "code",
   "execution_count": 69,
   "metadata": {},
   "outputs": [
    {
     "name": "stdout",
     "output_type": "stream",
     "text": [
      "2022-03-03 14:38:10,936 INFO sqlalchemy.engine.base.Engine DROP TABLE IF EXISTS parcours ;\n",
      "2022-03-03 14:38:10,939 INFO sqlalchemy.engine.base.Engine ()\n",
      "2022-03-03 14:38:11,132 INFO sqlalchemy.engine.base.Engine COMMIT\n"
     ]
    }
   ],
   "source": [
    "sql = text('DROP TABLE IF EXISTS parcours ;')\n",
    "result = engine.execute(sql)"
   ]
  }
 ],
 "metadata": {
  "kernelspec": {
   "display_name": "Python 3",
   "language": "python",
   "name": "python3"
  },
  "language_info": {
   "codemirror_mode": {
    "name": "ipython",
    "version": 3
   },
   "file_extension": ".py",
   "mimetype": "text/x-python",
   "name": "python",
   "nbconvert_exporter": "python",
   "pygments_lexer": "ipython3",
   "version": "3.8.5"
  }
 },
 "nbformat": 4,
 "nbformat_minor": 4
}
