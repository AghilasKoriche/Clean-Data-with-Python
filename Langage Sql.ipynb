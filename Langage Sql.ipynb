{
 "cells": [
  {
   "cell_type": "code",
   "execution_count": 1,
   "metadata": {},
   "outputs": [],
   "source": [
    "import sqlite3, sqlalchemy\n",
    "from sqlalchemy import Table, Column, Integer, String, ForeignKey, MetaData, create_engine, text, inspect\n",
    "from IPython.display import Markdown, display"
   ]
  },
  {
   "cell_type": "code",
   "execution_count": 2,
   "metadata": {},
   "outputs": [],
   "source": [
    "engine = create_engine('sqlite:///college.db', echo=True)"
   ]
  },
  {
   "cell_type": "code",
   "execution_count": 3,
   "metadata": {},
   "outputs": [],
   "source": [
    "meta = MetaData()"
   ]
  },
  {
   "cell_type": "code",
   "execution_count": 4,
   "metadata": {},
   "outputs": [
    {
     "name": "stdout",
     "output_type": "stream",
     "text": [
      "2022-01-13 13:14:37,831 INFO sqlalchemy.engine.base.Engine SELECT CAST('test plain returns' AS VARCHAR(60)) AS anon_1\n",
      "2022-01-13 13:14:37,842 INFO sqlalchemy.engine.base.Engine ()\n",
      "2022-01-13 13:14:37,847 INFO sqlalchemy.engine.base.Engine SELECT CAST('test unicode returns' AS VARCHAR(60)) AS anon_1\n",
      "2022-01-13 13:14:37,848 INFO sqlalchemy.engine.base.Engine ()\n",
      "2022-01-13 13:14:37,868 INFO sqlalchemy.engine.base.Engine PRAGMA main.table_info(\"students\")\n",
      "2022-01-13 13:14:37,870 INFO sqlalchemy.engine.base.Engine ()\n",
      "2022-01-13 13:14:37,875 INFO sqlalchemy.engine.base.Engine PRAGMA temp.table_info(\"students\")\n",
      "2022-01-13 13:14:37,879 INFO sqlalchemy.engine.base.Engine ()\n",
      "2022-01-13 13:14:37,886 INFO sqlalchemy.engine.base.Engine \n",
      "CREATE TABLE students (\n",
      "\tid INTEGER NOT NULL, \n",
      "\tname VARCHAR, \n",
      "\tlastname VARCHAR, \n",
      "\tPRIMARY KEY (id)\n",
      ")\n",
      "\n",
      "\n",
      "2022-01-13 13:14:37,893 INFO sqlalchemy.engine.base.Engine ()\n",
      "2022-01-13 13:14:38,078 INFO sqlalchemy.engine.base.Engine COMMIT\n"
     ]
    }
   ],
   "source": [
    "students = Table(\n",
    "   'students', meta, \n",
    "   Column('id', Integer, primary_key=True), \n",
    "   Column('name', String), \n",
    "   Column('lastname', String),\n",
    ")\n",
    "meta.create_all(engine)"
   ]
  },
  {
   "cell_type": "code",
   "execution_count": 5,
   "metadata": {},
   "outputs": [
    {
     "name": "stdout",
     "output_type": "stream",
     "text": [
      "2022-01-13 13:14:42,989 INFO sqlalchemy.engine.base.Engine PRAGMA main.table_info(\"students\")\n",
      "2022-01-13 13:14:42,993 INFO sqlalchemy.engine.base.Engine ()\n",
      "2022-01-13 13:14:43,094 INFO sqlalchemy.engine.base.Engine PRAGMA main.table_info(\"parcours\")\n",
      "2022-01-13 13:14:43,094 INFO sqlalchemy.engine.base.Engine ()\n"
     ]
    }
   ],
   "source": [
    "parcours = Table(\n",
    "   'parcours', meta, \n",
    "   Column('id_parcours', Integer, primary_key=True), \n",
    "   Column('name', String), \n",
    "   Column('student_id', Integer, ForeignKey(\"students.id\")),\n",
    ")\n",
    "meta.create_all(engine)"
   ]
  },
  {
   "cell_type": "code",
   "execution_count": 6,
   "metadata": {},
   "outputs": [
    {
     "data": {
      "text/plain": [
       "[(1, 'Jean', 'Dubois'), (2, 'Florent', 'Desbiolles')]"
      ]
     },
     "execution_count": 6,
     "metadata": {},
     "output_type": "execute_result"
    }
   ],
   "source": [
    "values = [(1, \"Jean\", \"Dubois\"), (2, \"Florent\", \"Desbiolles\")]\n",
    "values"
   ]
  },
  {
   "cell_type": "code",
   "execution_count": 7,
   "metadata": {},
   "outputs": [
    {
     "name": "stdout",
     "output_type": "stream",
     "text": [
      "2022-01-13 13:14:58,831 INFO sqlalchemy.engine.base.Engine BEGIN (implicit)\n",
      "2022-01-13 13:14:58,835 INFO sqlalchemy.engine.base.Engine INSERT OR REPLACE INTO students VALUES (?,?,?)\n",
      "2022-01-13 13:14:58,838 INFO sqlalchemy.engine.base.Engine [(1, 'Jean', 'Dubois'), (2, 'Florent', 'Desbiolles')]\n",
      "2022-01-13 13:14:58,845 INFO sqlalchemy.engine.base.Engine COMMIT\n"
     ]
    }
   ],
   "source": [
    "# Créer la connection\n",
    "with engine.connect() as connection:\n",
    "    # début de la transaction\n",
    "    with connection.begin() as transaction:\n",
    "        # on tente d'éxécuter une transaction\n",
    "        try:\n",
    "            # On indique le format d'un tuple de cette table\n",
    "            markers = ','.join('?' * len(values[0])) \n",
    "            \n",
    "            # On utilise le langage SQL en format texte où markers est le format d'un tuple\n",
    "            ins = 'INSERT OR REPLACE INTO {tablename} VALUES ({markers})'\n",
    "            \n",
    "            # On précise ce format particulier grâce à la fonction membre format\n",
    "            ins = ins.format(tablename=students.name, markers=markers)\n",
    "           \n",
    "            # Enfin on peut utiliser les tuples créés en éxécutant la commande SQL\n",
    "            connection.execute(ins, values)\n",
    "        # si la transaction échoue\n",
    "        except:\n",
    "            transaction.rollback()\n",
    "            raise\n",
    "        # si la transaction réussit\n",
    "        else:\n",
    "            transaction.commit()"
   ]
  },
  {
   "cell_type": "code",
   "execution_count": 8,
   "metadata": {},
   "outputs": [
    {
     "name": "stdout",
     "output_type": "stream",
     "text": [
      "2022-01-13 13:15:02,639 INFO sqlalchemy.engine.base.Engine BEGIN (implicit)\n",
      "2022-01-13 13:15:02,643 INFO sqlalchemy.engine.base.Engine INSERT OR REPLACE INTO parcours VALUES (?,?,?)\n",
      "2022-01-13 13:15:02,646 INFO sqlalchemy.engine.base.Engine [(1, 'Data engineering', 1), (2, 'Data Science', 2)]\n",
      "2022-01-13 13:15:02,653 INFO sqlalchemy.engine.base.Engine COMMIT\n"
     ]
    }
   ],
   "source": [
    "values_parcours = [(1, \"Data engineering\", 1),(2, \"Data Science\", 2) ]\n",
    "\n",
    "with engine.connect() as connection:\n",
    "    with connection.begin() as transaction:\n",
    "        try:\n",
    "            markers = ','.join('?' * len(values_parcours[0]))\n",
    "            ins = 'INSERT OR REPLACE INTO {tablename} VALUES ({markers})'\n",
    "            \n",
    "            ins = ins.format(tablename=parcours.name, markers=markers)\n",
    "            connection.execute(ins, values_parcours)\n",
    "        except:\n",
    "            transaction.rollback()\n",
    "            raise\n",
    "        else:\n",
    "            transaction.commit()"
   ]
  },
  {
   "cell_type": "code",
   "execution_count": 9,
   "metadata": {},
   "outputs": [
    {
     "name": "stdout",
     "output_type": "stream",
     "text": [
      "2022-01-13 13:15:08,014 INFO sqlalchemy.engine.base.Engine SELECT * FROM students;\n",
      "2022-01-13 13:15:08,018 INFO sqlalchemy.engine.base.Engine ()\n",
      "[(1, 'Jean', 'Dubois'), (2, 'Florent', 'Desbiolles')]\n",
      "2022-01-13 13:15:08,065 INFO sqlalchemy.engine.base.Engine SELECT * FROM parcours;\n",
      "2022-01-13 13:15:08,069 INFO sqlalchemy.engine.base.Engine ()\n",
      "[(1, 'Data engineering', 1), (2, 'Data Science', 2)]\n"
     ]
    }
   ],
   "source": [
    "with engine.connect() as connection:\n",
    "    results = connection.execute(\"SELECT * FROM students;\")\n",
    "    print(results.fetchall())\n",
    "\n",
    "with engine.connect() as connection:\n",
    "    results = connection.execute(\"SELECT * FROM parcours;\")\n",
    "    print(results.fetchall())"
   ]
  },
  {
   "cell_type": "code",
   "execution_count": 10,
   "metadata": {},
   "outputs": [
    {
     "name": "stdout",
     "output_type": "stream",
     "text": [
      "2022-01-13 13:15:13,084 INFO sqlalchemy.engine.base.Engine DROP TABLE IF EXISTS students;\n",
      "2022-01-13 13:15:13,088 INFO sqlalchemy.engine.base.Engine ()\n",
      "2022-01-13 13:15:13,418 INFO sqlalchemy.engine.base.Engine COMMIT\n"
     ]
    }
   ],
   "source": [
    "sql = text('DROP TABLE IF EXISTS students;')\n",
    "result = engine.execute(sql)"
   ]
  }
 ],
 "metadata": {
  "kernelspec": {
   "display_name": "Python 3",
   "language": "python",
   "name": "python3"
  },
  "language_info": {
   "codemirror_mode": {
    "name": "ipython",
    "version": 3
   },
   "file_extension": ".py",
   "mimetype": "text/x-python",
   "name": "python",
   "nbconvert_exporter": "python",
   "pygments_lexer": "ipython3",
   "version": "3.8.5"
  }
 },
 "nbformat": 4,
 "nbformat_minor": 4
}
