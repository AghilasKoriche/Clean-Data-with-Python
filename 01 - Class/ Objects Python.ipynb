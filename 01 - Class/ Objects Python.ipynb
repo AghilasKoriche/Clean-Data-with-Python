{
 "cells": [
  {
   "cell_type": "code",
   "execution_count": 1,
   "metadata": {},
   "outputs": [],
   "source": [
    "import pandas as pd\n",
    "import numpy as np\n",
    "import matplotlib.pyplot as plt"
   ]
  },
  {
   "cell_type": "code",
   "execution_count": 2,
   "metadata": {},
   "outputs": [
    {
     "name": "stdout",
     "output_type": "stream",
     "text": [
      "350\n",
      "deux semaines\n"
     ]
    }
   ],
   "source": [
    "class Boisson:\n",
    "    def __init__(self, volume, peremption):\n",
    "        \n",
    "        self.volume = volume \n",
    "        self.peremption = peremption \n",
    "        \n",
    "    def prochain_jour(self,concervation):\n",
    "        self.concervation = 1\n",
    "    \n",
    "Boisson1 = Boisson(350,'deux semaines')\n",
    "\n",
    "print(Boisson1.volume)          \n",
    "print(Boisson1.peremption)  "
   ]
  },
  {
   "cell_type": "code",
   "execution_count": 3,
   "metadata": {},
   "outputs": [
    {
     "name": "stdout",
     "output_type": "stream",
     "text": [
      "['une semaine']\n"
     ]
    }
   ],
   "source": [
    "class Jus(Boisson):\n",
    "        def __init__(self, peremption):\n",
    "            self.peremption = peremption\n",
    "            \n",
    "Jus1 = Jus(['une semaine'])\n",
    "print(Jus1.peremption)"
   ]
  },
  {
   "cell_type": "code",
   "execution_count": 4,
   "metadata": {},
   "outputs": [
    {
     "name": "stdout",
     "output_type": "stream",
     "text": [
      "volume est 500 et date est 30jours\n"
     ]
    }
   ],
   "source": [
    "class DataCola(Boisson):\n",
    "    def __init__(récipient):\n",
    "            if récipient == canette :     \n",
    "                  print('volume est:330 et date est 60jours')\n",
    "            else: récipient == bouteille\n",
    "print( 'volume est 500 et date est 30jours')"
   ]
  },
  {
   "cell_type": "code",
   "execution_count": 5,
   "metadata": {},
   "outputs": [
    {
     "name": "stdout",
     "output_type": "stream",
     "text": [
      "<class '__main__.distibuteur'>\n"
     ]
    }
   ],
   "source": [
    "class distibuteur:\n",
    "    def __init__(self,taille, contenu=[]):\n",
    "        self.contenu = liste\n",
    "        self.taille = 15\n",
    "    def add(self, nouvele_boisson):\n",
    "        self.append = nouvelle_boisson\n",
    "\n",
    "    def enlever(self):  \n",
    "         self.pop([i])\n",
    "    def vérifier(self):\n",
    "        for i in range(len(self.pop)):\n",
    "            print(self.pop[i])\n",
    "print(distibuteur)"
   ]
  },
  {
   "cell_type": "code",
   "execution_count": 6,
   "metadata": {},
   "outputs": [
    {
     "name": "stdout",
     "output_type": "stream",
     "text": [
      "<class '__main__.Case'>\n"
     ]
    }
   ],
   "source": [
    "class Case:\n",
    "    def __init__(self, occupe):\n",
    "        self.occupe =''\n",
    "    def joueur1(self,x):  \n",
    "        if Case==0:\n",
    "            self.x = x\n",
    "    def joueur2(self,o): \n",
    "        if Case==0:\n",
    "            self.o = o\n",
    "print(Case)"
   ]
  },
  {
   "cell_type": "code",
   "execution_count": 7,
   "metadata": {},
   "outputs": [
    {
     "name": "stdout",
     "output_type": "stream",
     "text": [
      "<class '__main__.Terrain'>\n"
     ]
    }
   ],
   "source": [
    "class Terrain:\n",
    "    def __init__(self,tour, grille=[9]):\n",
    "        self.case=grille[9]\n",
    "        self.tour = [i]\n",
    "        \n",
    "        if i ==1:\n",
    "            print(\"joueur1 peut joueur\")\n",
    "        elif i ==2:\n",
    "            print(\"joueur2 qui va joueur\")\n",
    "print(Terrain)"
   ]
  }
 ],
 "metadata": {
  "kernelspec": {
   "display_name": "Python 3",
   "language": "python",
   "name": "python3"
  },
  "language_info": {
   "codemirror_mode": {
    "name": "ipython",
    "version": 3
   },
   "file_extension": ".py",
   "mimetype": "text/x-python",
   "name": "python",
   "nbconvert_exporter": "python",
   "pygments_lexer": "ipython3",
   "version": "3.8.5"
  }
 },
 "nbformat": 4,
 "nbformat_minor": 4
}
