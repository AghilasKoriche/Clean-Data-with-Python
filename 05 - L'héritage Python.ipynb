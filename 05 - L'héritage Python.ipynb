{
 "cells": [
  {
   "cell_type": "code",
   "execution_count": 20,
   "metadata": {},
   "outputs": [
    {
     "name": "stdout",
     "output_type": "stream",
     "text": [
      "4 + 5 i\n",
      "3 - 2 i\n"
     ]
    }
   ],
   "source": [
    "class Complexe:\n",
    "    def __init__(self, a, b):\n",
    "        self.partie_re = a\n",
    "        self.partie_im = b\n",
    "    def afficher(self):\n",
    "        if(self.partie_im < 0):\n",
    "            print(self.partie_re,'-', -self.partie_im,'i')\n",
    "        if(self.partie_im == 0):\n",
    "            print(self.partie_re)\n",
    "        if(self.partie_im > 0):\n",
    "            print(self.partie_re, '+',self.partie_im,'i')\n",
    "            \n",
    "C1 = Complexe(4,5)\n",
    "C1.afficher()\n",
    "C2 = Complexe(3,-2)\n",
    "C2.afficher()"
   ]
  },
  {
   "cell_type": "code",
   "execution_count": 21,
   "metadata": {},
   "outputs": [
    {
     "name": "stdout",
     "output_type": "stream",
     "text": [
      "4\n",
      "Dimitri\n",
      "Charles\n",
      "Yohan\n"
     ]
    }
   ],
   "source": [
    "class Vehicule:\n",
    "    def __init__(self, a, b=[]):\n",
    "        self.seats = a\n",
    "        self.passengers = b\n",
    "    def print_passengers(self):\n",
    "        for i in range(len(self.passengers)):\n",
    "            print(self.passengers[i])\n",
    "\n",
    "voiture2 = Vehicule(4,['Dimitri', 'Charles', 'Yohan'])\n",
    "\n",
    "print(voiture2.seats)          # Affichage de l'attribut seats\n",
    "voiture2.print_passengers()    # Execution de la méthode print_passengers "
   ]
  },
  {
   "cell_type": "code",
   "execution_count": 22,
   "metadata": {},
   "outputs": [
    {
     "name": "stdout",
     "output_type": "stream",
     "text": [
      "Charles\n",
      "Paul\n",
      "Raphaël\n"
     ]
    }
   ],
   "source": [
    "class Vehicule:\n",
    "    def __init__(self, a, b=[]):\n",
    "        self.seats = a\n",
    "        self.passengers = b\n",
    "    \n",
    "    def print_passengers(self):\n",
    "        for i in range(len(self.passengers)):\n",
    "            print(self.passengers[i])\n",
    "    \n",
    "    def add(self,name): #Nouvelle méthode\n",
    "        self.passengers.append(name)\n",
    "        \n",
    "\n",
    "voiture1 = Vehicule(4, ['Charles', 'Paul'])    #declaration de l'instance voiture1\n",
    "voiture1.add('Raphaël')                        #ajout de 'Raphaël' dans la liste des passagers\n",
    "\n",
    "voiture1.print_passengers()                    #affichage de la liste des passagers dans la console"
   ]
  },
  {
   "cell_type": "code",
   "execution_count": 23,
   "metadata": {},
   "outputs": [],
   "source": [
    "class Complexe:\n",
    "    def __init__(self, a, b):\n",
    "        self.partie_re = a\n",
    "        self.partie_im = b\n",
    "    def afficher(self):\n",
    "        if(self.partie_im < 0):\n",
    "            print(self.partie_re,'-', -self.partie_im,'i')\n",
    "        if(self.partie_im == 0):\n",
    "            print(self.partie_re)\n",
    "        if(self.partie_im > 0):\n",
    "            print(self.partie_re, '+',self.partie_im,'i')\n",
    "    \n",
    "    def add(self , c):\n",
    "        raise NotImplementedError  #### Remplacer par le corps de la méthode"
   ]
  },
  {
   "cell_type": "code",
   "execution_count": 25,
   "metadata": {},
   "outputs": [
    {
     "name": "stdout",
     "output_type": "stream",
     "text": [
      "3 + 2 i\n"
     ]
    }
   ],
   "source": [
    "class Complexe:\n",
    "    def __init__(self, a, b):\n",
    "        self.partie_re = a\n",
    "        self.partie_im = b\n",
    "    def afficher(self):\n",
    "        if(self.partie_im < 0):\n",
    "            print(self.partie_re,'-', -self.partie_im,'i')\n",
    "        if(self.partie_im == 0):\n",
    "            print(self.partie_re)\n",
    "        if(self.partie_im > 0):\n",
    "            print(self.partie_re, '+',self.partie_im,'i')\n",
    "            \n",
    "    def add(self, C):\n",
    "        self.partie_re = self.partie_re + C.partie_re\n",
    "        self.partie_im = self.partie_im + C.partie_im\n",
    "        \n",
    "C1 = Complexe(4, -1)\n",
    "C2 = Complexe(-1, 3)\n",
    "\n",
    "C1.add(C2)\n",
    "C1.afficher()"
   ]
  },
  {
   "cell_type": "markdown",
   "metadata": {},
   "source": [
    "# L'héritage"
   ]
  },
  {
   "cell_type": "code",
   "execution_count": 26,
   "metadata": {},
   "outputs": [
    {
     "name": "stdout",
     "output_type": "stream",
     "text": [
      "Pierre\n",
      "Dimitri\n",
      "Yohann\n"
     ]
    }
   ],
   "source": [
    "class Vehicule: # définition de la classe Vehicule\n",
    "    def __init__(self, a, b = []):\n",
    "        self.seats = a  # nombre de places dans le vehicule  \n",
    "        self.passengers = b  # liste contenant le nom des passagers\n",
    "    \n",
    "    def print_passengers(self): # Affiche le nom de tous les passagers présents dans le véhicule\n",
    "        for i in range(len(self.passengers)):\n",
    "            print(self.passengers[i])\n",
    "    \n",
    "    def add(self,name): # Ajoute un nouveau passager dans la liste des passagers du véhicule\n",
    "            self.passengers.append(name)\n",
    "    \n",
    "class Moto(Vehicule):\n",
    "    def __init__(self, b, c):\n",
    "        self.seats = 2      # Le nombre de sièges est automatiquement initialisé à 2 et n'est pas modifié par les\n",
    "                            # arguments passés en paramètres.\n",
    "        self.passengers = b \n",
    "        self.brand = c\n",
    "\n",
    "moto1 = Moto(['Pierre','Dimitri'], 'Yamaha')\n",
    "moto1.add('Yohann')\n",
    "moto1.print_passengers()"
   ]
  },
  {
   "cell_type": "code",
   "execution_count": 27,
   "metadata": {},
   "outputs": [],
   "source": [
    "class Moto :\n",
    "    def __init__(self, b, c):\n",
    "        self.seats = 2\n",
    "        self.passengers = b\n",
    "        self.brand = c\n",
    "        \n",
    "    def add(self, name):\n",
    "        if( len(self.passengers) <  self.seats):\n",
    "            self.passengers.append(name)\n",
    "            print('Il reste', self.seats - len(self.passengers), 'places')\n",
    "        else:\n",
    "            print(\"Le véhicule est rempli\")\n"
   ]
  },
  {
   "cell_type": "code",
   "execution_count": 28,
   "metadata": {},
   "outputs": [],
   "source": [
    "class Convoi:\n",
    "    def __init__(self):\n",
    "        self.vehicule_list = []   # initialisation de l'attribut vehicule_list avec une liste vide       \n",
    "        self.vehicule_list.append(Vehicule(4))\n",
    "        self.length = 1  # initialisation de l'attribut length à 1.\n",
    "    \n",
    "    def add_vehicule(self, vehicule):\n",
    "        self.vehicule_list.append(vehicule) # ajout du vehicule en fin de liste\n",
    "        self.length = self.length + 1 # mise à jour de la longueur du convoi\n"
   ]
  },
  {
   "cell_type": "code",
   "execution_count": 19,
   "metadata": {},
   "outputs": [
    {
     "name": "stdout",
     "output_type": "stream",
     "text": [
      "False\n",
      "True\n"
     ]
    }
   ],
   "source": [
    "import numpy as np\n",
    "class Complexe:\n",
    "    def __init__(self, a = 0, b = 0):\n",
    "        self.partie_re = a\n",
    "        self.partie_im = b\n",
    "    \n",
    "    def __str__(self):\n",
    "        if(self.partie_im < 0):\n",
    "            return self.partie_re.__str__() + self.partie_im.__str__() + 'i'\n",
    "        \n",
    "        if(self.partie_im == 0):\n",
    "            return self.partie_re.__str__() \n",
    "        \n",
    "        if(self.partie_im > 0):\n",
    "            return self.partie_re.__str__() + '+' + self.partie_im.__str__() + 'i' \n",
    "        \n",
    "    def mod(self):\n",
    "            return np.sqrt( self.partie_re ** 2 + self.partie_im ** 2)  # renvoie (sqrt(a² + b²))\n",
    "    \n",
    "    def __lt__(self, other):    \n",
    "        if( self.mod() < other.mod()):   # renvoie True si |self| < |other|\n",
    "            return True\n",
    "        else:\n",
    "            return False\n",
    "        \n",
    "    def __gt__(self, other):\n",
    "        if( self.mod() > other.mod()):   # renvoie True si |self| > |other|\n",
    "            return True\n",
    "        else:\n",
    "            return False\n",
    "        \n",
    "        \n",
    "z1 = Complexe(3, 4)\n",
    "z2 = Complexe(2, 5)\n",
    "print(z1 > z2)\n",
    "print(z1 < z2)"
   ]
  }
 ],
 "metadata": {
  "kernelspec": {
   "display_name": "Python 3",
   "language": "python",
   "name": "python3"
  },
  "language_info": {
   "codemirror_mode": {
    "name": "ipython",
    "version": 3
   },
   "file_extension": ".py",
   "mimetype": "text/x-python",
   "name": "python",
   "nbconvert_exporter": "python",
   "pygments_lexer": "ipython3",
   "version": "3.8.5"
  }
 },
 "nbformat": 4,
 "nbformat_minor": 4
}
