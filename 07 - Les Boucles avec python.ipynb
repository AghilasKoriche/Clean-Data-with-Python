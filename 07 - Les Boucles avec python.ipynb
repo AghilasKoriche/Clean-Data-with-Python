{
 "cells": [
  {
   "cell_type": "markdown",
   "metadata": {},
   "source": [
    "# Importer les modules "
   ]
  },
  {
   "cell_type": "code",
   "execution_count": 1,
   "metadata": {},
   "outputs": [],
   "source": [
    "import pandas as pd\n",
    "import numpy as np \n",
    "import matplotlib.pyplot as plt"
   ]
  },
  {
   "cell_type": "code",
   "execution_count": 26,
   "metadata": {},
   "outputs": [
    {
     "name": "stdout",
     "output_type": "stream",
     "text": [
      "1\n",
      "2\n",
      "3\n",
      "4\n",
      "5\n",
      "6\n",
      "7\n",
      "8\n",
      "9\n",
      "10\n",
      "11\n",
      "12\n",
      "13\n",
      "14\n"
     ]
    }
   ],
   "source": [
    "phrase = ['La', 'boucle', 'while', 'parcourt', 'tous', 'les', 'éléments', 'de', 'la', 'liste', \"jusqu'à\", 'ce', \"qu'elle\", 'ait', 'trouvé', 'ce', \"qu'elle\", 'cherche', '.']\n",
    "i = 0\n",
    "while phrase[i] != 'trouvé':\n",
    "    i += 1\n",
    "    print(i)"
   ]
  },
  {
   "cell_type": "code",
   "execution_count": 59,
   "metadata": {},
   "outputs": [
    {
     "name": "stdout",
     "output_type": "stream",
     "text": [
      "0\n",
      "1\n",
      "2\n",
      "3\n",
      "4\n",
      "5\n",
      "6\n",
      "7\n"
     ]
    }
   ],
   "source": [
    "ma_liste = [0,1,2,3,4,5,6,7]\n",
    "for chiffre in ma_liste:\n",
    "    print(chiffre)"
   ]
  },
  {
   "cell_type": "code",
   "execution_count": 60,
   "metadata": {},
   "outputs": [
    {
     "name": "stdout",
     "output_type": "stream",
     "text": [
      "0\n",
      "1\n",
      "2\n",
      "3\n",
      "4\n",
      "5\n",
      "6\n",
      "7\n"
     ]
    }
   ],
   "source": [
    "i=0\n",
    "while i<=7:\n",
    "    print(i)\n",
    "    i += 1"
   ]
  },
  {
   "cell_type": "code",
   "execution_count": 61,
   "metadata": {},
   "outputs": [
    {
     "name": "stdout",
     "output_type": "stream",
     "text": [
      "9\n"
     ]
    }
   ],
   "source": [
    "results = [9.81, 9.89, 9.91, 9.93, 9.94, 9.95, 9.96, 9.97, 9.98, 10.03, 10.04, 10.05, 10.06, 10.08, 10.11, 10.23]\n",
    "i =0\n",
    "while results [i] < 10 :\n",
    "      i += 1\n",
    "print( i)"
   ]
  },
  {
   "cell_type": "code",
   "execution_count": 62,
   "metadata": {},
   "outputs": [
    {
     "name": "stdout",
     "output_type": "stream",
     "text": [
      "a\n",
      "g\n",
      "h\n",
      "i\n",
      "l\n",
      "a\n",
      "s\n"
     ]
    }
   ],
   "source": [
    "for lettre in \"aghilas\":\n",
    "    print(lettre)"
   ]
  },
  {
   "cell_type": "code",
   "execution_count": 63,
   "metadata": {},
   "outputs": [
    {
     "name": "stdout",
     "output_type": "stream",
     "text": [
      "Moyenne initiale : 0.0\n",
      "4.0\n",
      "Moyenne initiale : 0.06666666666666667\n",
      "4.066666666666666\n",
      "Moyenne initiale : 0.16666666666666666\n",
      "4.166666666666667\n",
      "Moyenne initiale : 0.26666666666666666\n",
      "4.266666666666667\n",
      "Moyenne initiale : 0.36666666666666664\n",
      "4.366666666666666\n",
      "Moyenne initiale : 0.4666666666666667\n",
      "4.466666666666667\n",
      "Moyenne initiale : 0.6\n",
      "4.6\n",
      "Moyenne initiale : 0.7666666666666667\n",
      "4.766666666666667\n",
      "Moyenne initiale : 0.9333333333333333\n",
      "4.933333333333334\n",
      "Moyenne initiale : 1.1\n",
      "5.1\n",
      "Moyenne initiale : 1.3\n",
      "5.3\n",
      "Moyenne initiale : 1.5\n",
      "5.5\n",
      "Moyenne initiale : 1.7\n",
      "5.7\n",
      "Moyenne initiale : 1.9\n",
      "5.9\n",
      "Moyenne initiale : 2.1\n",
      "6.1\n",
      "Moyenne initiale : 2.3333333333333335\n",
      "6.333333333333334\n",
      "Moyenne initiale : 2.566666666666667\n",
      "6.566666666666666\n",
      "Moyenne initiale : 2.8333333333333335\n",
      "6.833333333333334\n",
      "Moyenne initiale : 3.1\n",
      "7.1\n",
      "Moyenne initiale : 3.3666666666666667\n",
      "7.366666666666667\n",
      "Moyenne initiale : 3.6333333333333333\n",
      "7.633333333333333\n",
      "Moyenne initiale : 3.9\n",
      "7.9\n",
      "Moyenne initiale : 4.166666666666667\n",
      "8.166666666666668\n",
      "Moyenne initiale : 4.466666666666667\n",
      "8.466666666666667\n",
      "Moyenne initiale : 4.8\n",
      "8.8\n",
      "Moyenne initiale : 5.133333333333334\n",
      "9.133333333333333\n",
      "Moyenne initiale : 5.466666666666667\n",
      "9.466666666666667\n",
      "Moyenne initiale : 5.833333333333333\n",
      "9.833333333333332\n",
      "Moyenne initiale : 6.233333333333333\n",
      "10.233333333333334\n",
      "Moyenne initiale : 6.7\n",
      "10.7\n"
     ]
    }
   ],
   "source": [
    "bad_marks = [0, 2, 3, 3, 3, 3, 4, 5, 5, 5, 6, 6, 6, 6, 6, 7, 7, 8, 8, 8, 8, 8, 8, 9, 10, 10, 10, 11, 12, 14]\n",
    "total = 0\n",
    "for i in bad_marks :\n",
    "    total+=i\n",
    "    moyenne = total / 30\n",
    "    print(\"Moyenne initiale :\", moyenne)\n",
    "    good_marks = moyenne +4\n",
    "    print ( good_marks)"
   ]
  },
  {
   "cell_type": "code",
   "execution_count": 64,
   "metadata": {},
   "outputs": [
    {
     "name": "stdout",
     "output_type": "stream",
     "text": [
      "Moyenne initiale : 6.733333333333333\n"
     ]
    }
   ],
   "source": [
    "bad_marks = [0, 2, 3, 3, 3, 3, 4, 5, 5, 5, 6, 6, 6, 6, 6, 7, 7, 8, 8, 8, 8, 8, 8, 9, 10, 10, 10, 11, 12, 14]\n",
    "\n",
    "# Calculons de la moyenne de la classe : \n",
    "total = 1\n",
    "\n",
    "# On somme toutes les notes des élèves:\n",
    "for mark in bad_marks :\n",
    "    total+=mark\n",
    "# On divise la somme des notes par le nombre d'élèves:\n",
    "moyenne = total / 30\n",
    "    \n",
    "print(\"Moyenne initiale :\", moyenne)"
   ]
  },
  {
   "cell_type": "code",
   "execution_count": 65,
   "metadata": {},
   "outputs": [
    {
     "name": "stdout",
     "output_type": "stream",
     "text": [
      "None\n",
      "None\n",
      "None\n",
      "None\n",
      "None\n",
      "None\n",
      "None\n",
      "None\n",
      "None\n",
      "None\n",
      "None\n",
      "None\n",
      "None\n",
      "None\n",
      "None\n",
      "None\n",
      "None\n",
      "None\n",
      "None\n",
      "None\n",
      "None\n",
      "None\n",
      "None\n",
      "None\n",
      "None\n",
      "None\n",
      "None\n",
      "None\n",
      "None\n",
      "None\n",
      "None\n",
      "None\n",
      "None\n",
      "None\n",
      "None\n",
      "None\n",
      "None\n",
      "None\n",
      "None\n",
      "None\n",
      "None\n",
      "None\n",
      "None\n",
      "None\n",
      "None\n",
      "None\n",
      "None\n",
      "None\n",
      "None\n",
      "None\n",
      "None\n",
      "None\n",
      "None\n",
      "None\n",
      "None\n",
      "None\n",
      "None\n",
      "None\n",
      "None\n",
      "None\n",
      "None\n",
      "None\n",
      "None\n",
      "None\n",
      "None\n",
      "None\n",
      "None\n",
      "None\n",
      "None\n",
      "None\n",
      "None\n",
      "None\n",
      "None\n",
      "None\n",
      "None\n",
      "None\n",
      "None\n",
      "None\n",
      "None\n",
      "None\n",
      "None\n",
      "None\n",
      "None\n",
      "None\n",
      "None\n",
      "None\n",
      "None\n",
      "None\n",
      "None\n",
      "None\n",
      "None\n",
      "None\n",
      "None\n",
      "None\n",
      "None\n",
      "None\n",
      "None\n",
      "None\n"
     ]
    }
   ],
   "source": [
    "# Les deux premiers termes de la suite de Fibonacci\n",
    "u = [0, 1]\n",
    "\n",
    "# Pour i allant de 2 à 100\n",
    "for i in range(2, 100): \n",
    "    # On calcule le terme u_i à l'aide de u[i-1] et u[i-2]\n",
    "    u_i = u[i-1] + u[i-2]\n",
    "    \n",
    "    # On stock u_i à la fin de la liste u\n",
    "    print(u.append(u_i))   "
   ]
  },
  {
   "cell_type": "code",
   "execution_count": 66,
   "metadata": {},
   "outputs": [
    {
     "name": "stdout",
     "output_type": "stream",
     "text": [
      "4 + 5 i\n",
      "3 - 2 i\n"
     ]
    }
   ],
   "source": [
    "# Définition de la classe Complexe\n",
    "class Complexe:\n",
    "    \n",
    "    # Définition du constructeur\n",
    "    def __init__(self, a, b):\n",
    "        # Initialisation des attributs avec les arguments du constructeur\n",
    "        self.partie_re = a\n",
    "        self.partie_im = b\n",
    "        \n",
    "    # Définition d'une méthode permettant d'afficher le complexe sous forme algébrique\n",
    "    def afficher(self):\n",
    "        # Il faut faire attention au signe de la partie imaginaire pour ne pas\n",
    "        # afficher quelque chose comme \"4 + -5i\" si la partie imaginaire est négative\n",
    "        if(self.partie_im < 0):\n",
    "            print(self.partie_re, '-', -self.partie_im, 'i')\n",
    "            \n",
    "        if(self.partie_im == 0):\n",
    "            print(self.partie_re)\n",
    "            \n",
    "        if(self.partie_im > 0):\n",
    "            print(self.partie_re, '+', self.partie_im, 'i')\n",
    "        \n",
    "# Instanciation des nombres complexes 4+5i et 3-2i\n",
    "C1 = Complexe(4, 5)\n",
    "C2 = Complexe(3, -2)\n",
    "\n",
    "# Affichage \n",
    "C1.afficher()\n",
    "C2.afficher()"
   ]
  },
  {
   "cell_type": "code",
   "execution_count": 91,
   "metadata": {},
   "outputs": [
    {
     "name": "stdout",
     "output_type": "stream",
     "text": [
      " u triée: \n",
      " [-5, -4, -3, -3, -1, 0, 0, 1, 2, 3, 3, 4, 4, 5, 6, 7, 7, 7, 8, 9]\n"
     ]
    }
   ],
   "source": [
    "u = [1, 9, -3, 3, -5, 4, -4, 7, 3, 4, 5, 0, 8, 7, -1, -3, 7, 6, 0, 2]\n",
    "# On trie u dans l'ordre croissant\n",
    "u.sort()\n",
    "print(\" u triée: \\n\", u)"
   ]
  },
  {
   "cell_type": "code",
   "execution_count": 92,
   "metadata": {},
   "outputs": [
    {
     "name": "stdout",
     "output_type": "stream",
     "text": [
      "0.9649660284921133\n"
     ]
    }
   ],
   "source": [
    "from numpy import cos, sin, exp\n",
    "x =50\n",
    "print(cos(50))"
   ]
  },
  {
   "cell_type": "code",
   "execution_count": 96,
   "metadata": {},
   "outputs": [
    {
     "name": "stdout",
     "output_type": "stream",
     "text": [
      "8\n"
     ]
    }
   ],
   "source": [
    "def double(nombre) :\n",
    "    return 2*nombre\n",
    "print(double(nombre=4))"
   ]
  },
  {
   "cell_type": "code",
   "execution_count": 72,
   "metadata": {},
   "outputs": [
    {
     "name": "stdout",
     "output_type": "stream",
     "text": [
      "-307.9296\n"
     ]
    }
   ],
   "source": [
    "def list_product(liste):\n",
    "    # On initialise le produit à 1\n",
    "    produit = 1\n",
    "    \n",
    "    # Pour chaque nombre dans la liste\n",
    "    for number in liste:\n",
    "        # On mutliplie le produit avec ce nombre\n",
    "        produit *= number\n",
    "        \n",
    "    return produit\n",
    "test_list = [1, 0.12, -54, 12, 0.33, 12]\n",
    "print(list_product(test_list)) "
   ]
  },
  {
   "cell_type": "code",
   "execution_count": 112,
   "metadata": {},
   "outputs": [
    {
     "name": "stdout",
     "output_type": "stream",
     "text": [
      "-2\n",
      "4\n"
     ]
    }
   ],
   "source": [
    "# élément d'une liste\n",
    "def first_and_last(a_list):\n",
    "    return a_list[0], a_list[-1]\n",
    "# Utilisation du tuple assignement pour récupérer les sorties\n",
    "first, last = first_and_last([-2, 32, 31, 231, 4])\n",
    "print(first)\n",
    "print(last)"
   ]
  },
  {
   "cell_type": "code",
   "execution_count": 113,
   "metadata": {},
   "outputs": [
    {
     "name": "stdout",
     "output_type": "stream",
     "text": [
      "56 448 3584\n"
     ]
    }
   ],
   "source": [
    "def power4(x):\n",
    "    return x**1, x**2, x**3, x**4\n",
    "x_1, x_2, x_3, x_4 = power4(x = 8)\n",
    "def power_diff(x_1, x_2, x_3, x_4):\n",
    "    diff1 = x_2 - x_1\n",
    "    diff2 = x_3 - x_2\n",
    "    diff3 = x_4 - x_3\n",
    "    return diff1, diff2, diff3\n",
    "diff1, diff2, diff3 = power_diff(x_1, x_2, x_3, x_4)\n",
    "print(diff1, diff2, diff3)"
   ]
  },
  {
   "cell_type": "markdown",
   "metadata": {},
   "source": [
    "# Autres Exps de class"
   ]
  },
  {
   "cell_type": "code",
   "execution_count": 97,
   "metadata": {},
   "outputs": [
    {
     "name": "stdout",
     "output_type": "stream",
     "text": [
      "John\n",
      "36\n"
     ]
    }
   ],
   "source": [
    "class Person:\n",
    "  def __init__(self, name, age):\n",
    "  \n",
    "    self.name = name\n",
    "    self.age = age\n",
    "\n",
    "p1 = Person(\"John\", 36)\n",
    "\n",
    "print(p1.name)\n",
    "print(p1.age)"
   ]
  },
  {
   "cell_type": "code",
   "execution_count": 98,
   "metadata": {},
   "outputs": [
    {
     "name": "stdout",
     "output_type": "stream",
     "text": [
      "clio\n",
      "blanche\n"
     ]
    }
   ],
   "source": [
    "class voiture: #def de la class\n",
    "    def __init__(self,color, power):# def de constructeur de la class\n",
    "        \n",
    "        self.blanche= color# initialisation des attributs de la class avec des arguments\n",
    "        self.clio = power\n",
    "    def change_color(self, new_color ):# def d'une nouvelle méthode qui peut changer la couleur\n",
    "        self.new_color = color\n",
    "\n",
    "p1 = voiture(\"blanche\",\"clio\")# objet de la class \n",
    "print(p1.clio) \n",
    "print(p1.blanche) "
   ]
  }
 ],
 "metadata": {
  "kernelspec": {
   "display_name": "Python 3",
   "language": "python",
   "name": "python3"
  },
  "language_info": {
   "codemirror_mode": {
    "name": "ipython",
    "version": 3
   },
   "file_extension": ".py",
   "mimetype": "text/x-python",
   "name": "python",
   "nbconvert_exporter": "python",
   "pygments_lexer": "ipython3",
   "version": "3.8.5"
  }
 },
 "nbformat": 4,
 "nbformat_minor": 4
}
