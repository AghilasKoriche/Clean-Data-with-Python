{
 "cells": [
  {
   "cell_type": "code",
   "execution_count": 67,
   "metadata": {},
   "outputs": [],
   "source": [
    "import pandas as pd\n",
    "import numpy as np\n",
    "import matplotlib.pyplot as plt\n",
    "from datetime import timedelta"
   ]
  },
  {
   "cell_type": "code",
   "execution_count": 68,
   "metadata": {},
   "outputs": [
    {
     "name": "stdout",
     "output_type": "stream",
     "text": [
      "[-16, 6, -4, -18, 18, 20, 21, -6, 19, 25]\n",
      "[27, -1, 10, -2, -15, -10, 19, 26, 3, 27]\n"
     ]
    }
   ],
   "source": [
    "une_liste_longue = [-16, 6, -4, -18, 18, 20, 21, -6, 19, 25, 11,\n",
    "                    2, 9, 7, -16, 16, 4, -15, 11, 7, 17, 18, 4,\n",
    "                    25, 17, 28, -6, 17, 1, 14, -20, -15, 20, -15,\n",
    "                    -8, 8, -19, -11, -20, -16, 3, 3, -10, -5, 10,\n",
    "                    24, -1, 1, -10, 6, 10, -6, -14, 25, 8, -11,\n",
    "                    -17, -9, 0, 21, 3, 14, 7, 10, 25, 24, -18, -11,\n",
    "                    2, 29, 17, -6, 6, -11, 2, -18, 20, -15, -11,\n",
    "                    15, -10, 8, -15, 25, -15, 10, 28, -12, 11, 14,\n",
    "                    27, -1, 10, -2, -15, -10, 19, 26, 3, 27]\n",
    "\n",
    "print(une_liste_longue[:10])\n",
    "print (une_liste_longue [-10:])"
   ]
  },
  {
   "cell_type": "code",
   "execution_count": 69,
   "metadata": {},
   "outputs": [
    {
     "data": {
      "text/plain": [
       "[1, 5, 'Bonjour', -1.4, 'ça', 103, 'va']"
      ]
     },
     "execution_count": 69,
     "metadata": {},
     "output_type": "execute_result"
    }
   ],
   "source": [
    "ma_liste = [1, 5, \"Bonjour\", -1.4, \"ça\", 103, \"va\"]\n",
    "ma_liste"
   ]
  },
  {
   "cell_type": "code",
   "execution_count": 70,
   "metadata": {},
   "outputs": [
    {
     "name": "stdout",
     "output_type": "stream",
     "text": [
      "[1, 5, -1.4, 103]\n"
     ]
    }
   ],
   "source": [
    "ma_liste = [1, 5, \"Bonjour\", -1.4, \"ça\", 103, \"va\"]\n",
    "\n",
    "ma_liste.pop(6) # Supprimer le dernier élément \"va\" \n",
    "ma_liste.pop(2) # Supprimer l'élément \"Bonjour\" \n",
    "ma_liste.pop(3) # Supprimer le dernier élément \"ça\" \n",
    "\n",
    "print(ma_liste)"
   ]
  },
  {
   "cell_type": "code",
   "execution_count": 71,
   "metadata": {},
   "outputs": [],
   "source": [
    "del ma_liste[3] #Supprimer la ma_liste "
   ]
  },
  {
   "cell_type": "code",
   "execution_count": 73,
   "metadata": {},
   "outputs": [
    {
     "name": "stdout",
     "output_type": "stream",
     "text": [
      "['Bonjour', 'comment', 'ça', 'va']\n"
     ]
    }
   ],
   "source": [
    "ma_liste = [1, 5, \"Bonjour\", -1.4, \"comment\", \"ça\", 103, \"va\"]\n",
    "\n",
    "# Suppression des nombres\n",
    "ma_liste.pop(0)\n",
    "ma_liste.pop(0)\n",
    "ma_liste.pop(1)\n",
    "ma_liste.pop(-2)\n",
    "\n",
    "print(ma_liste)"
   ]
  },
  {
   "cell_type": "code",
   "execution_count": 74,
   "metadata": {},
   "outputs": [
    {
     "name": "stdout",
     "output_type": "stream",
     "text": [
      "['Bonjour', 'Hello', 'comment', 'how', 'ça', 'are', 'va', 'you']\n"
     ]
    }
   ],
   "source": [
    "ma_liste = [1, 5, \"Bonjour\", -1.4, \"comment\", \"ça\", 103, \"va\"]\n",
    "\n",
    "# Suppression des nombres\n",
    "ma_liste.pop(0)\n",
    "ma_liste.pop(0)\n",
    "ma_liste.pop(1)\n",
    "ma_liste.pop(-2)\n",
    "\n",
    "# Insertion des éléments \"Hello\", \"how\", \"are\" et \"you\"\n",
    "ma_liste.insert(1, \"Hello\")\n",
    "ma_liste.insert(3, \"how\")\n",
    "ma_liste.insert(5, \"are\")\n",
    "ma_liste.insert(7, \"you\")\n",
    "\n",
    "# Affichage de la liste\n",
    "print(ma_liste)"
   ]
  },
  {
   "cell_type": "code",
   "execution_count": 76,
   "metadata": {},
   "outputs": [
    {
     "name": "stdout",
     "output_type": "stream",
     "text": [
      "['bonjour', 'hello', 'comment', 'how', 'ça', 'are', 'va', 'you', 'Bonjour', 'comment', 'ça', 'va']\n"
     ]
    }
   ],
   "source": [
    "ma_liste = [1, 5, \"Bonjour\", -1.4, \"comment\", \"ça\", 103, \"va\"]\n",
    "\n",
    "ma_liste.pop(0)\n",
    "ma_liste.pop(0)\n",
    "ma_liste.pop(1)\n",
    "ma_liste.pop(-2)\n",
    "###################################\n",
    "ma_liste.insert(0,\"bonjour\")\n",
    "ma_liste.insert(1,\"hello\")\n",
    "ma_liste.insert(2,\"comment\")\n",
    "ma_liste.insert(3,\"how\")\n",
    "ma_liste.insert(4,\"ça\")\n",
    "ma_liste.insert(5,\"are\")\n",
    "ma_liste.insert(6,\"va\")\n",
    "ma_liste.insert(7,\"you\")\n",
    "# Affichage de la liste\n",
    "print(ma_liste)"
   ]
  },
  {
   "cell_type": "code",
   "execution_count": 77,
   "metadata": {},
   "outputs": [
    {
     "name": "stdout",
     "output_type": "stream",
     "text": [
      "['Bonjour', 'comment', 'ça', 'va', '?', 'Bien', 'et', 'toi', '?']\n",
      "['Bonjour', 'comment', 'ça', 'va', '?', 'Bien', 'et', 'toi', '?']\n"
     ]
    }
   ],
   "source": [
    "### Fusion de 2 listes avec la méthode extend\n",
    "\n",
    "liste_1 = [\"Bonjour\", \"comment\", \"ça\", \"va\", \"?\"]\n",
    "liste_2 = [\"Bien\", \"et\", \"toi\", \"?\"]\n",
    "\n",
    "# Ajout des éléments de liste_2 à la fin de liste_1\n",
    "liste_1.extend(liste_2)\n",
    "\n",
    "# Affichage de liste_1\n",
    "print(liste_1)\n",
    "\n",
    "### Fusion de 2 listes avec l'opérateur +\n",
    "\n",
    "liste_1 = [\"Bonjour\", \"comment\", \"ça\", \"va\", \"?\"]\n",
    "liste_2 = [\"Bien\", \"et\", \"toi\", \"?\"]\n",
    "\n",
    "# Ajout des éléments de liste_2 à la fin de liste_1\n",
    "liste_1 = liste_1 + liste_2\n",
    "print(liste_1)"
   ]
  },
  {
   "cell_type": "markdown",
   "metadata": {},
   "source": [
    "### Dictionnaires"
   ]
  },
  {
   "cell_type": "code",
   "execution_count": 78,
   "metadata": {},
   "outputs": [
    {
     "name": "stdout",
     "output_type": "stream",
     "text": [
      "25\n",
      "Vanessa\n",
      "F\n"
     ]
    }
   ],
   "source": [
    "# Définition d'un dictionnaire\n",
    "un_dict ={\"age\" : 25,\n",
    "           \"taille\" : 183,\n",
    "           \"sexe\" : \"F\",\n",
    "           \"prenom\" : \"Vanessa\"\n",
    "          }\n",
    "# Affichage des éléments\n",
    "print(un_dict[\"age\"])\n",
    "print(un_dict[\"prenom\"])\n",
    "print(un_dict[\"sexe\"])"
   ]
  },
  {
   "cell_type": "code",
   "execution_count": 79,
   "metadata": {},
   "outputs": [
    {
     "name": "stdout",
     "output_type": "stream",
     "text": [
      "{'prenom': 'guillaume', 'nom': 'lefebvre', 'emission': 1978}\n"
     ]
    }
   ],
   "source": [
    "# Insérez votre code ici\n",
    "carte_id = {\"prenom\":\"paul\",\n",
    "\"nom\":\"lefebvre\",\n",
    "\"emission\":1978}\n",
    "carte_id[\"prenom\"] = \"guillaume\"\n",
    "print(carte_id)"
   ]
  },
  {
   "cell_type": "code",
   "execution_count": 80,
   "metadata": {},
   "outputs": [
    {
     "name": "stdout",
     "output_type": "stream",
     "text": [
      "        prix Unité en €    Quantité          DLC\n",
      "farine         3.000000  100.000000  1800.000000\n",
      "miel          10.000000    2.000000    10.000000\n",
      "Vin            0.001372    0.000617     0.000741\n"
     ]
    }
   ],
   "source": [
    "# Création d'un dictionnaire\n",
    "dictionnaire = {'prix Unité en €': [3, 10, 25/9/2024], \n",
    "                'Quantité': [100, 2, 10/8/2025],\n",
    "                'DLC': [1800, 10, 15/10/2023]\n",
    "               }\n",
    "              \n",
    "# Instanciation d'un DataFrame \n",
    "df = pd.DataFrame(data = dictionnaire,\n",
    "                  index = ['farine', 'miel', 'Vin'])\n",
    "print (df)"
   ]
  },
  {
   "cell_type": "code",
   "execution_count": 81,
   "metadata": {},
   "outputs": [
    {
     "name": "stdout",
     "output_type": "stream",
     "text": [
      "                    Farine        miel          Vin\n",
      "prix Unité en €   3.000000  100.000000  1800.000000\n",
      "Quantité         55.000000    2.000000    10.000000\n",
      "DLC               0.001372    0.000617     0.000741\n"
     ]
    }
   ],
   "source": [
    "# Création d'un dictionnaire\n",
    "dictionnaire = {'Farine': [3, 55, 25/9/2024], \n",
    "                'miel': [100, 2, 10/8/2025],\n",
    "                'Vin': [1800, 10, 15/10/2023]\n",
    "               }\n",
    "              \n",
    "# Instanciation d'un DataFrame \n",
    "df = pd.DataFrame(data = dictionnaire,\n",
    "                  index = ['prix Unité en €', 'Quantité', 'DLC'])\n",
    "print (df)"
   ]
  },
  {
   "cell_type": "code",
   "execution_count": 83,
   "metadata": {},
   "outputs": [
    {
     "name": "stdout",
     "output_type": "stream",
     "text": [
      "  Produit Date d'expiration  Quantité  Prix à l'unité\n",
      "0    miel        10/08/2025       100               2\n",
      "1  farine        25/09/2024        55               3\n",
      "2     vin        15/10/2023      1800              10\n"
     ]
    }
   ],
   "source": [
    "dictionnaire = {\"Produit\"          : ['miel', 'farine', 'vin'],\n",
    "                \"Date d'expiration\": ['10/08/2025', '25/09/2024', '15/10/2023'],\n",
    "                \"Quantité\"         : [100, 55, 1800], \n",
    "                \"Prix à l'unité\"   : [2, 3, 10]}\n",
    "\n",
    "df = pd.DataFrame(dictionnaire)\n",
    "print(df)"
   ]
  }
 ],
 "metadata": {
  "kernelspec": {
   "display_name": "Python 3",
   "language": "python",
   "name": "python3"
  },
  "language_info": {
   "codemirror_mode": {
    "name": "ipython",
    "version": 3
   },
   "file_extension": ".py",
   "mimetype": "text/x-python",
   "name": "python",
   "nbconvert_exporter": "python",
   "pygments_lexer": "ipython3",
   "version": "3.8.5"
  }
 },
 "nbformat": 4,
 "nbformat_minor": 4
}
