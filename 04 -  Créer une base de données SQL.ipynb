{
 "cells": [
  {
   "cell_type": "markdown",
   "metadata": {},
   "source": [
    "# Inroduction :\n",
    "\n",
    "SQLAlchemy est la boîte à outils Python SQL et Object Relational Mapper qui offre aux développeurs d'applications toute la puissance et la flexibilité de SQL.\n"
   ]
  },
  {
   "cell_type": "code",
   "execution_count": 404,
   "metadata": {},
   "outputs": [],
   "source": [
    "import sqlite3, sqlalchemy\n",
    "from sqlalchemy import Table, Column, Integer, String, MetaData, ForeignKey"
   ]
  },
  {
   "cell_type": "markdown",
   "metadata": {},
   "source": [
    "# Connexion :\n",
    "\n",
    "Pour ce Tutoriel, nous utiliserons une base de données SQLite newIMBD.db. \n",
    "Pour se connecter, nous utilisons create_engine():\n",
    "\n",
    "L' echo indicateur est un raccourci pour configurer la journalisation SQLAlchemy,"
   ]
  },
  {
   "cell_type": "code",
   "execution_count": 402,
   "metadata": {},
   "outputs": [],
   "source": [
    "engine = create_engine('sqlite:///newIMDB.db', echo=True)"
   ]
  },
  {
   "cell_type": "code",
   "execution_count": 403,
   "metadata": {},
   "outputs": [],
   "source": [
    "meta = MetaData()"
   ]
  },
  {
   "cell_type": "markdown",
   "metadata": {},
   "source": [
    "# Définir et créer des tables :"
   ]
  },
  {
   "cell_type": "code",
   "execution_count": 381,
   "metadata": {},
   "outputs": [],
   "source": [
    "Crew = Table(\n",
    "   'Crew', meta, \n",
    "   Column('#title_id', String ,primary_key=True), \n",
    "   Column('#personne_id', String), \n",
    "   Column('category', String), \n",
    "   Column('job',String ),\n",
    "   Column('caracters', String)\n",
    ")\n",
    "\n",
    "episodes = Table(\n",
    "   'episodes', meta, \n",
    "   Column('episode_title_id', Integer), \n",
    "   Column('show_title_id', Integer), \n",
    "   Column('season_number', Integer),\n",
    "   Column('episode_number', Integer)\n",
    ")\n",
    "\n",
    "\n",
    "people = Table(\n",
    "   'people', meta, \n",
    "   Column('person_Id', String,primary_key=True), \n",
    "   Column('name', String), \n",
    "   Column('born', Integer),\n",
    "   Column('died', Integer)\n",
    ")\n",
    "\n",
    "ratings = Table(\n",
    "   'ratings', meta, \n",
    "   Column('#title_id', String,primary_key=True), \n",
    "   Column('rating', Integer), \n",
    "   Column('votes', Integer)\n",
    ")\n",
    "\n",
    "titles = Table(\n",
    "   'titles', meta, \n",
    "   Column('title_id', String ,primary_key=True), \n",
    "   Column('type', String), \n",
    "   Column('primary_title', String ), \n",
    "   Column('original_title', String), \n",
    "   Column('is_adult', Integer),\n",
    "   Column('premiered', Integer),\n",
    "   Column('ended', Integer)\n",
    "\n",
    ")\n",
    "####################################################### Ces deux tables on les supprimes après !!\n",
    "\n",
    "Facture = Table(\n",
    "   'Facture', meta, \n",
    "   Column('FactureId', Integer, primary_key=True), \n",
    "   Column('#BoissonId', String, primary_key=True), \n",
    "   Column('Heure', String)\n",
    ")\n",
    "\n",
    "Boisson = Table(\n",
    "   'Boisson', meta, \n",
    "   Column('BoissonId', Integer,primary_key=True), \n",
    "   Column('nom', String), \n",
    "   Column('Contenance', String),\n",
    "   Column('Prix', Integer)\n",
    ")"
   ]
  },
  {
   "cell_type": "code",
   "execution_count": 382,
   "metadata": {},
   "outputs": [
    {
     "name": "stdout",
     "output_type": "stream",
     "text": [
      "2022-03-04 19:19:40,938 INFO sqlalchemy.engine.base.Engine SELECT CAST('test plain returns' AS VARCHAR(60)) AS anon_1\n",
      "2022-03-04 19:19:40,942 INFO sqlalchemy.engine.base.Engine ()\n",
      "2022-03-04 19:19:40,947 INFO sqlalchemy.engine.base.Engine SELECT CAST('test unicode returns' AS VARCHAR(60)) AS anon_1\n",
      "2022-03-04 19:19:40,951 INFO sqlalchemy.engine.base.Engine ()\n",
      "2022-03-04 19:19:40,956 INFO sqlalchemy.engine.base.Engine PRAGMA main.table_info(\"Crew\")\n",
      "2022-03-04 19:19:40,959 INFO sqlalchemy.engine.base.Engine ()\n",
      "2022-03-04 19:19:40,966 INFO sqlalchemy.engine.base.Engine PRAGMA main.table_info(\"episodes\")\n",
      "2022-03-04 19:19:40,972 INFO sqlalchemy.engine.base.Engine ()\n",
      "2022-03-04 19:19:40,977 INFO sqlalchemy.engine.base.Engine PRAGMA main.table_info(\"people\")\n",
      "2022-03-04 19:19:40,981 INFO sqlalchemy.engine.base.Engine ()\n",
      "2022-03-04 19:19:40,987 INFO sqlalchemy.engine.base.Engine PRAGMA main.table_info(\"ratings\")\n",
      "2022-03-04 19:19:40,991 INFO sqlalchemy.engine.base.Engine ()\n",
      "2022-03-04 19:19:40,996 INFO sqlalchemy.engine.base.Engine PRAGMA main.table_info(\"titles\")\n",
      "2022-03-04 19:19:41,003 INFO sqlalchemy.engine.base.Engine ()\n",
      "2022-03-04 19:19:41,013 INFO sqlalchemy.engine.base.Engine PRAGMA main.table_info(\"Facture\")\n",
      "2022-03-04 19:19:41,021 INFO sqlalchemy.engine.base.Engine ()\n",
      "2022-03-04 19:19:41,029 INFO sqlalchemy.engine.base.Engine PRAGMA main.table_info(\"Boisson\")\n",
      "2022-03-04 19:19:41,033 INFO sqlalchemy.engine.base.Engine ()\n"
     ]
    }
   ],
   "source": [
    "meta.create_all(engine) "
   ]
  },
  {
   "cell_type": "code",
   "execution_count": 383,
   "metadata": {},
   "outputs": [
    {
     "data": {
      "text/plain": [
       "Column('id', Integer(), table=None, primary_key=True, nullable=False, default=Sequence('Crew_id_seq'))"
      ]
     },
     "execution_count": 383,
     "metadata": {},
     "output_type": "execute_result"
    }
   ],
   "source": [
    "from sqlalchemy import Sequence\n",
    "Column('id', Integer, Sequence('Crew_id_seq'), primary_key=True)"
   ]
  },
  {
   "cell_type": "markdown",
   "metadata": {},
   "source": [
    "# Insérer des expressions :"
   ]
  },
  {
   "cell_type": "code",
   "execution_count": 384,
   "metadata": {},
   "outputs": [],
   "source": [
    "values_1 = [(1, \"Coca\", \"33\",\"0.99\"),\n",
    "          (2, \"Perrier\", \"100\",\"2\"),\n",
    "          (3, \"Perrier\", \"33\",\"1\"),\n",
    "          (4, \"Vittel\", \"150\",\"1.50\"),\n",
    "          (5, \"Badoit\", \"50\",\"2\")]"
   ]
  },
  {
   "cell_type": "code",
   "execution_count": 385,
   "metadata": {},
   "outputs": [
    {
     "name": "stdout",
     "output_type": "stream",
     "text": [
      "2022-03-04 19:19:45,083 INFO sqlalchemy.engine.base.Engine BEGIN (implicit)\n",
      "2022-03-04 19:19:45,089 INFO sqlalchemy.engine.base.Engine INSERT OR REPLACE INTO Boisson VALUES (?,?,?,?)\n",
      "2022-03-04 19:19:45,092 INFO sqlalchemy.engine.base.Engine [(1, 'Coca', '33', '0.99'), (2, 'Perrier', '100', '2'), (3, 'Perrier', '33', '1'), (4, 'Vittel', '150', '1.50'), (5, 'Badoit', '50', '2')]\n",
      "2022-03-04 19:19:45,099 INFO sqlalchemy.engine.base.Engine COMMIT\n"
     ]
    }
   ],
   "source": [
    "# Créer la connection\n",
    "with engine.connect() as connection:\n",
    "    # début de la transaction\n",
    "    with connection.begin() as transaction:\n",
    "        # on tente d'éxécuter une transaction\n",
    "        try:\n",
    "            # On indique le format d'un tuple de cette table\n",
    "            markers = ','.join('?' * len(values_1[0])) \n",
    "            # On utilise le langage SQL en format texte où markers est le format d'un tuple\n",
    "            ins = 'INSERT OR REPLACE INTO {tablename} VALUES ({markers})'\n",
    "            # On précise ce format particulier grâce à la fonction membre format\n",
    "            ins = ins.format(tablename=Boisson.name, markers=markers)\n",
    "            # Enfin on peut utiliser les tuples créés en éxécutant la commande SQL\n",
    "            connection.execute(ins, values_1)\n",
    "        # si la transaction échoue\n",
    "        except:\n",
    "            transaction.rollback()\n",
    "            raise\n",
    "        # si la transaction réussit\n",
    "        else:\n",
    "            transaction.commit()"
   ]
  },
  {
   "cell_type": "code",
   "execution_count": 386,
   "metadata": {},
   "outputs": [],
   "source": [
    "values_2 = [(\"1\", \"1\", \"7\"), (\"2\", \"1\", \"8\"), (\"3\", \"4\", \"12\")]"
   ]
  },
  {
   "cell_type": "code",
   "execution_count": 387,
   "metadata": {},
   "outputs": [
    {
     "name": "stdout",
     "output_type": "stream",
     "text": [
      "2022-03-04 19:19:48,658 INFO sqlalchemy.engine.base.Engine BEGIN (implicit)\n",
      "2022-03-04 19:19:48,661 INFO sqlalchemy.engine.base.Engine INSERT OR REPLACE INTO Facture values (?,?,?)\n",
      "2022-03-04 19:19:48,663 INFO sqlalchemy.engine.base.Engine [('1', '1', '7'), ('2', '1', '8'), ('3', '4', '12')]\n",
      "2022-03-04 19:19:48,672 INFO sqlalchemy.engine.base.Engine COMMIT\n"
     ]
    }
   ],
   "source": [
    "with engine.connect() as connection:\n",
    "    with connection.begin() as transaction:\n",
    "        try:\n",
    "            markers = ','.join('?' * len(values_2[0])) \n",
    "            ins = 'INSERT OR REPLACE INTO {tablename} values ({markers})'\n",
    "            ins = ins.format(tablename=Facture, markers=markers)\n",
    "            connection.execute(ins, values_2)\n",
    "        except:\n",
    "            transaction.rollback()\n",
    "            raise\n",
    "        else:\n",
    "            transaction.commit()"
   ]
  },
  {
   "cell_type": "markdown",
   "metadata": {},
   "source": [
    "# Confirmation de l'enrigistrement : "
   ]
  },
  {
   "cell_type": "code",
   "execution_count": 388,
   "metadata": {},
   "outputs": [
    {
     "name": "stdout",
     "output_type": "stream",
     "text": [
      "2022-03-04 19:19:50,424 INFO sqlalchemy.engine.base.Engine SELECT * FROM Facture;\n",
      "2022-03-04 19:19:50,456 INFO sqlalchemy.engine.base.Engine ()\n",
      "[(1, '1', '7'), (2, '1', '8'), (3, '4', '12')]\n"
     ]
    }
   ],
   "source": [
    "with engine.connect() as connection:\n",
    "    results = connection.execute(\"SELECT * FROM Facture;\")\n",
    "    print(results.fetchall())"
   ]
  },
  {
   "cell_type": "code",
   "execution_count": 389,
   "metadata": {},
   "outputs": [
    {
     "name": "stdout",
     "output_type": "stream",
     "text": [
      "2022-03-04 19:19:51,731 INFO sqlalchemy.engine.base.Engine SELECT * FROM Boisson;\n",
      "2022-03-04 19:19:51,737 INFO sqlalchemy.engine.base.Engine ()\n",
      "[(1, 'Coca', '33', 0.99), (2, 'Perrier', '100', 2), (3, 'Perrier', '33', 1), (4, 'Vittel', '150', 1.5), (5, 'Badoit', '50', 2)]\n"
     ]
    }
   ],
   "source": [
    "with engine.connect() as connection:\n",
    "    results = connection.execute(\"SELECT * FROM Boisson;\")\n",
    "    print(results.fetchall())"
   ]
  },
  {
   "cell_type": "markdown",
   "metadata": {},
   "source": [
    "# Suppression de la table boisson :"
   ]
  },
  {
   "cell_type": "code",
   "execution_count": 390,
   "metadata": {},
   "outputs": [
    {
     "name": "stdout",
     "output_type": "stream",
     "text": [
      "2022-03-04 19:19:53,554 INFO sqlalchemy.engine.base.Engine DROP TABLE IF EXISTS Boisson;\n",
      "2022-03-04 19:19:53,558 INFO sqlalchemy.engine.base.Engine ()\n",
      "2022-03-04 19:19:53,792 INFO sqlalchemy.engine.base.Engine COMMIT\n"
     ]
    }
   ],
   "source": [
    "sql = text('DROP TABLE IF EXISTS Boisson;')\n",
    "result = engine.execute(sql)"
   ]
  },
  {
   "cell_type": "markdown",
   "metadata": {},
   "source": [
    "# Suppression de la table Facture :"
   ]
  },
  {
   "cell_type": "code",
   "execution_count": 391,
   "metadata": {},
   "outputs": [
    {
     "name": "stdout",
     "output_type": "stream",
     "text": [
      "2022-03-04 19:19:55,128 INFO sqlalchemy.engine.base.Engine DROP TABLE IF EXISTS Facture;\n",
      "2022-03-04 19:19:55,130 INFO sqlalchemy.engine.base.Engine ()\n",
      "2022-03-04 19:19:55,226 INFO sqlalchemy.engine.base.Engine COMMIT\n"
     ]
    }
   ],
   "source": [
    "sql = text('DROP TABLE IF EXISTS Facture;')\n",
    "result = engine.execute(sql)"
   ]
  },
  {
   "cell_type": "markdown",
   "metadata": {},
   "source": [
    "# Exécution :"
   ]
  },
  {
   "cell_type": "code",
   "execution_count": 392,
   "metadata": {},
   "outputs": [],
   "source": [
    "conn = engine.connect()"
   ]
  },
  {
   "cell_type": "markdown",
   "metadata": {},
   "source": [
    "# Afficher les table de la base de données :"
   ]
  },
  {
   "cell_type": "code",
   "execution_count": 393,
   "metadata": {},
   "outputs": [],
   "source": [
    "inspector = inspect(engine)"
   ]
  },
  {
   "cell_type": "code",
   "execution_count": 394,
   "metadata": {},
   "outputs": [
    {
     "name": "stdout",
     "output_type": "stream",
     "text": [
      "2022-03-04 19:20:00,112 INFO sqlalchemy.engine.base.Engine SELECT name FROM sqlite_master WHERE type='table' ORDER BY name\n",
      "2022-03-04 19:20:00,116 INFO sqlalchemy.engine.base.Engine ()\n"
     ]
    },
    {
     "data": {
      "text/plain": [
       "['Crew', 'episodes', 'people', 'ratings', 'titles']"
      ]
     },
     "execution_count": 394,
     "metadata": {},
     "output_type": "execute_result"
    }
   ],
   "source": [
    "inspector.get_table_names()"
   ]
  },
  {
   "cell_type": "markdown",
   "metadata": {},
   "source": [
    "# Afficher les clés prémaires des tables : "
   ]
  },
  {
   "cell_type": "code",
   "execution_count": 395,
   "metadata": {},
   "outputs": [
    {
     "name": "stdout",
     "output_type": "stream",
     "text": [
      "2022-03-04 19:20:01,858 INFO sqlalchemy.engine.base.Engine SELECT sql FROM  (SELECT * FROM sqlite_master UNION ALL   SELECT * FROM sqlite_temp_master) WHERE name = ? AND type = 'table'\n",
      "2022-03-04 19:20:01,861 INFO sqlalchemy.engine.base.Engine ('newIMDB.db',)\n",
      "2022-03-04 19:20:01,869 INFO sqlalchemy.engine.base.Engine PRAGMA main.table_xinfo(\"newIMDB.db\")\n",
      "2022-03-04 19:20:01,874 INFO sqlalchemy.engine.base.Engine ()\n",
      "2022-03-04 19:20:01,880 INFO sqlalchemy.engine.base.Engine PRAGMA temp.table_xinfo(\"newIMDB.db\")\n",
      "2022-03-04 19:20:01,883 INFO sqlalchemy.engine.base.Engine ()\n"
     ]
    },
    {
     "name": "stderr",
     "output_type": "stream",
     "text": [
      "<ipython-input-395-323763cc05ee>:1: SADeprecationWarning: The Inspector.get_primary_keys() method is deprecated and will be removed in a future release.  Please refer to the Inspector.get_pk_constraint() method.\n",
      "  inspector.get_primary_keys(table_name='newIMDB.db')\n"
     ]
    },
    {
     "data": {
      "text/plain": [
       "[]"
      ]
     },
     "execution_count": 395,
     "metadata": {},
     "output_type": "execute_result"
    }
   ],
   "source": [
    "inspector.get_primary_keys(table_name='newIMDB.db')"
   ]
  },
  {
   "cell_type": "markdown",
   "metadata": {},
   "source": [
    "# Afficher les différentes colonnes des tables de la base de données : "
   ]
  },
  {
   "cell_type": "code",
   "execution_count": 396,
   "metadata": {},
   "outputs": [
    {
     "name": "stdout",
     "output_type": "stream",
     "text": [
      "2022-03-04 19:20:06,481 INFO sqlalchemy.engine.base.Engine PRAGMA main.table_xinfo(\"Crew\")\n",
      "2022-03-04 19:20:06,485 INFO sqlalchemy.engine.base.Engine ()\n"
     ]
    },
    {
     "data": {
      "text/plain": [
       "[{'name': '#title_id',\n",
       "  'type': VARCHAR(),\n",
       "  'nullable': False,\n",
       "  'default': None,\n",
       "  'autoincrement': 'auto',\n",
       "  'primary_key': 1},\n",
       " {'name': '#personne_id',\n",
       "  'type': VARCHAR(),\n",
       "  'nullable': True,\n",
       "  'default': None,\n",
       "  'autoincrement': 'auto',\n",
       "  'primary_key': 0},\n",
       " {'name': 'category',\n",
       "  'type': VARCHAR(),\n",
       "  'nullable': True,\n",
       "  'default': None,\n",
       "  'autoincrement': 'auto',\n",
       "  'primary_key': 0},\n",
       " {'name': 'job',\n",
       "  'type': VARCHAR(),\n",
       "  'nullable': True,\n",
       "  'default': None,\n",
       "  'autoincrement': 'auto',\n",
       "  'primary_key': 0},\n",
       " {'name': 'caracters',\n",
       "  'type': VARCHAR(),\n",
       "  'nullable': True,\n",
       "  'default': None,\n",
       "  'autoincrement': 'auto',\n",
       "  'primary_key': 0}]"
      ]
     },
     "execution_count": 396,
     "metadata": {},
     "output_type": "execute_result"
    }
   ],
   "source": [
    "inspector.get_columns(table_name='Crew')"
   ]
  },
  {
   "cell_type": "code",
   "execution_count": 397,
   "metadata": {},
   "outputs": [
    {
     "name": "stdout",
     "output_type": "stream",
     "text": [
      "2022-03-04 19:20:11,093 INFO sqlalchemy.engine.base.Engine PRAGMA main.table_xinfo(\"episodes\")\n",
      "2022-03-04 19:20:11,097 INFO sqlalchemy.engine.base.Engine ()\n"
     ]
    },
    {
     "data": {
      "text/plain": [
       "[{'name': 'episode_title_id',\n",
       "  'type': INTEGER(),\n",
       "  'nullable': True,\n",
       "  'default': None,\n",
       "  'autoincrement': 'auto',\n",
       "  'primary_key': 0},\n",
       " {'name': 'show_title_id',\n",
       "  'type': INTEGER(),\n",
       "  'nullable': True,\n",
       "  'default': None,\n",
       "  'autoincrement': 'auto',\n",
       "  'primary_key': 0},\n",
       " {'name': 'season_number',\n",
       "  'type': INTEGER(),\n",
       "  'nullable': True,\n",
       "  'default': None,\n",
       "  'autoincrement': 'auto',\n",
       "  'primary_key': 0},\n",
       " {'name': 'episode_number',\n",
       "  'type': INTEGER(),\n",
       "  'nullable': True,\n",
       "  'default': None,\n",
       "  'autoincrement': 'auto',\n",
       "  'primary_key': 0}]"
      ]
     },
     "execution_count": 397,
     "metadata": {},
     "output_type": "execute_result"
    }
   ],
   "source": [
    "inspector.get_columns(table_name='episodes')"
   ]
  },
  {
   "cell_type": "code",
   "execution_count": 398,
   "metadata": {},
   "outputs": [
    {
     "name": "stdout",
     "output_type": "stream",
     "text": [
      "2022-03-04 19:20:13,397 INFO sqlalchemy.engine.base.Engine PRAGMA main.table_xinfo(\"people\")\n",
      "2022-03-04 19:20:13,403 INFO sqlalchemy.engine.base.Engine ()\n"
     ]
    },
    {
     "data": {
      "text/plain": [
       "[{'name': 'person_Id',\n",
       "  'type': VARCHAR(),\n",
       "  'nullable': False,\n",
       "  'default': None,\n",
       "  'autoincrement': 'auto',\n",
       "  'primary_key': 1},\n",
       " {'name': 'name',\n",
       "  'type': VARCHAR(),\n",
       "  'nullable': True,\n",
       "  'default': None,\n",
       "  'autoincrement': 'auto',\n",
       "  'primary_key': 0},\n",
       " {'name': 'born',\n",
       "  'type': INTEGER(),\n",
       "  'nullable': True,\n",
       "  'default': None,\n",
       "  'autoincrement': 'auto',\n",
       "  'primary_key': 0},\n",
       " {'name': 'died',\n",
       "  'type': INTEGER(),\n",
       "  'nullable': True,\n",
       "  'default': None,\n",
       "  'autoincrement': 'auto',\n",
       "  'primary_key': 0}]"
      ]
     },
     "execution_count": 398,
     "metadata": {},
     "output_type": "execute_result"
    }
   ],
   "source": [
    "inspector.get_columns(table_name='people')"
   ]
  },
  {
   "cell_type": "code",
   "execution_count": 399,
   "metadata": {},
   "outputs": [
    {
     "name": "stdout",
     "output_type": "stream",
     "text": [
      "2022-03-04 19:20:16,056 INFO sqlalchemy.engine.base.Engine PRAGMA main.table_xinfo(\"ratings\")\n",
      "2022-03-04 19:20:16,059 INFO sqlalchemy.engine.base.Engine ()\n"
     ]
    },
    {
     "data": {
      "text/plain": [
       "[{'name': '#title_id',\n",
       "  'type': VARCHAR(),\n",
       "  'nullable': False,\n",
       "  'default': None,\n",
       "  'autoincrement': 'auto',\n",
       "  'primary_key': 1},\n",
       " {'name': 'rating',\n",
       "  'type': INTEGER(),\n",
       "  'nullable': True,\n",
       "  'default': None,\n",
       "  'autoincrement': 'auto',\n",
       "  'primary_key': 0},\n",
       " {'name': 'votes',\n",
       "  'type': INTEGER(),\n",
       "  'nullable': True,\n",
       "  'default': None,\n",
       "  'autoincrement': 'auto',\n",
       "  'primary_key': 0}]"
      ]
     },
     "execution_count": 399,
     "metadata": {},
     "output_type": "execute_result"
    }
   ],
   "source": [
    "inspector.get_columns(table_name='ratings')"
   ]
  },
  {
   "cell_type": "code",
   "execution_count": 400,
   "metadata": {},
   "outputs": [
    {
     "name": "stdout",
     "output_type": "stream",
     "text": [
      "2022-03-04 19:20:18,272 INFO sqlalchemy.engine.base.Engine PRAGMA main.table_xinfo(\"titles\")\n",
      "2022-03-04 19:20:18,277 INFO sqlalchemy.engine.base.Engine ()\n"
     ]
    },
    {
     "data": {
      "text/plain": [
       "[{'name': 'title_id',\n",
       "  'type': VARCHAR(),\n",
       "  'nullable': False,\n",
       "  'default': None,\n",
       "  'autoincrement': 'auto',\n",
       "  'primary_key': 1},\n",
       " {'name': 'type',\n",
       "  'type': VARCHAR(),\n",
       "  'nullable': True,\n",
       "  'default': None,\n",
       "  'autoincrement': 'auto',\n",
       "  'primary_key': 0},\n",
       " {'name': 'primary_title',\n",
       "  'type': VARCHAR(),\n",
       "  'nullable': True,\n",
       "  'default': None,\n",
       "  'autoincrement': 'auto',\n",
       "  'primary_key': 0},\n",
       " {'name': 'original_title',\n",
       "  'type': VARCHAR(),\n",
       "  'nullable': True,\n",
       "  'default': None,\n",
       "  'autoincrement': 'auto',\n",
       "  'primary_key': 0},\n",
       " {'name': 'is_adult',\n",
       "  'type': INTEGER(),\n",
       "  'nullable': True,\n",
       "  'default': None,\n",
       "  'autoincrement': 'auto',\n",
       "  'primary_key': 0},\n",
       " {'name': 'premiered',\n",
       "  'type': INTEGER(),\n",
       "  'nullable': True,\n",
       "  'default': None,\n",
       "  'autoincrement': 'auto',\n",
       "  'primary_key': 0},\n",
       " {'name': 'ended',\n",
       "  'type': INTEGER(),\n",
       "  'nullable': True,\n",
       "  'default': None,\n",
       "  'autoincrement': 'auto',\n",
       "  'primary_key': 0}]"
      ]
     },
     "execution_count": 400,
     "metadata": {},
     "output_type": "execute_result"
    }
   ],
   "source": [
    "inspector.get_columns(table_name='titles')"
   ]
  },
  {
   "cell_type": "markdown",
   "metadata": {},
   "source": [
    "# Consclusion : "
   ]
  },
  {
   "cell_type": "markdown",
   "metadata": {},
   "source": [
    "à présent vous avez les connaissances de base sur SQL, pour pouvez crééer des bases de données, les manipuler en faisant des changements, des vérifications, ajouter, supprimer des expressions. \n",
    "\n",
    " - Afficher les tables d'une base de données.\n",
    "\n",
    " - Ajouter ou modifier la clé primaire d'une table\n",
    "\n",
    " - Lister les clés étrangères d'une base de données."
   ]
  },
  {
   "cell_type": "markdown",
   "metadata": {},
   "source": [
    "# "
   ]
  }
 ],
 "metadata": {
  "kernelspec": {
   "display_name": "Python 3",
   "language": "python",
   "name": "python3"
  },
  "language_info": {
   "codemirror_mode": {
    "name": "ipython",
    "version": 3
   },
   "file_extension": ".py",
   "mimetype": "text/x-python",
   "name": "python",
   "nbconvert_exporter": "python",
   "pygments_lexer": "ipython3",
   "version": "3.8.5"
  }
 },
 "nbformat": 4,
 "nbformat_minor": 4
}
